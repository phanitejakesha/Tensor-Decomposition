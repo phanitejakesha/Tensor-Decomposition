{
 "cells": [
  {
   "cell_type": "code",
   "execution_count": 5,
   "metadata": {
    "collapsed": true
   },
   "outputs": [],
   "source": [
    "import numpy\n",
    "a = numpy.zeros(shape=(5,3,2))"
   ]
  },
  {
   "cell_type": "code",
   "execution_count": 6,
   "metadata": {},
   "outputs": [
    {
     "name": "stdout",
     "output_type": "stream",
     "text": [
      "[[[ 0.  0.]\n",
      "  [ 0.  0.]\n",
      "  [ 0.  0.]]\n",
      "\n",
      " [[ 0.  0.]\n",
      "  [ 0.  0.]\n",
      "  [ 0.  0.]]\n",
      "\n",
      " [[ 0.  0.]\n",
      "  [ 0.  0.]\n",
      "  [ 0.  0.]]\n",
      "\n",
      " [[ 0.  0.]\n",
      "  [ 0.  0.]\n",
      "  [ 0.  0.]]\n",
      "\n",
      " [[ 0.  0.]\n",
      "  [ 0.  0.]\n",
      "  [ 0.  0.]]]\n"
     ]
    }
   ],
   "source": [
    "print(a)"
   ]
  },
  {
   "cell_type": "code",
   "execution_count": 15,
   "metadata": {
    "collapsed": true
   },
   "outputs": [],
   "source": [
    "a[1][1][1]=1"
   ]
  },
  {
   "cell_type": "code",
   "execution_count": 16,
   "metadata": {},
   "outputs": [
    {
     "data": {
      "text/plain": [
       "array([[[ 0.,  0.],\n",
       "        [ 0.,  0.],\n",
       "        [ 0.,  0.]],\n",
       "\n",
       "       [[ 0.,  0.],\n",
       "        [ 0.,  1.],\n",
       "        [ 0.,  0.]],\n",
       "\n",
       "       [[ 0.,  0.],\n",
       "        [ 0.,  0.],\n",
       "        [ 0.,  0.]],\n",
       "\n",
       "       [[ 0.,  0.],\n",
       "        [ 0.,  0.],\n",
       "        [ 0.,  0.]],\n",
       "\n",
       "       [[ 0.,  0.],\n",
       "        [ 0.,  0.],\n",
       "        [ 0.,  0.]]])"
      ]
     },
     "execution_count": 16,
     "metadata": {},
     "output_type": "execute_result"
    }
   ],
   "source": [
    "a"
   ]
  },
  {
   "cell_type": "code",
   "execution_count": 17,
   "metadata": {
    "collapsed": true
   },
   "outputs": [],
   "source": [
    "a[0][0][0]=1"
   ]
  },
  {
   "cell_type": "code",
   "execution_count": 19,
   "metadata": {},
   "outputs": [
    {
     "data": {
      "text/plain": [
       "array([[[ 1.,  0.],\n",
       "        [ 0.,  0.],\n",
       "        [ 0.,  0.]],\n",
       "\n",
       "       [[ 0.,  0.],\n",
       "        [ 0.,  1.],\n",
       "        [ 0.,  0.]],\n",
       "\n",
       "       [[ 0.,  0.],\n",
       "        [ 0.,  0.],\n",
       "        [ 0.,  0.]],\n",
       "\n",
       "       [[ 0.,  0.],\n",
       "        [ 0.,  0.],\n",
       "        [ 0.,  0.]],\n",
       "\n",
       "       [[ 0.,  0.],\n",
       "        [ 0.,  0.],\n",
       "        [ 0.,  0.]]])"
      ]
     },
     "execution_count": 19,
     "metadata": {},
     "output_type": "execute_result"
    }
   ],
   "source": [
    "a"
   ]
  },
  {
   "cell_type": "code",
   "execution_count": 21,
   "metadata": {},
   "outputs": [
    {
     "name": "stdout",
     "output_type": "stream",
     "text": [
      "<class 'numpy.ndarray'>\n"
     ]
    }
   ],
   "source": [
    "print(type(a))"
   ]
  },
  {
   "cell_type": "code",
   "execution_count": 26,
   "metadata": {
    "collapsed": true
   },
   "outputs": [],
   "source": [
    "decompose = KruskalTensor(a.shape, rank=2, regularize=1e-6, \n",
    "                                  init='nvecs', X_data=a)"
   ]
  },
  {
   "cell_type": "code",
   "execution_count": 85,
   "metadata": {
    "collapsed": true
   },
   "outputs": [],
   "source": [
    "from ktensor import KruskalTensor"
   ]
  },
  {
   "cell_type": "code",
   "execution_count": 29,
   "metadata": {
    "collapsed": true
   },
   "outputs": [],
   "source": [
    "factors = decompose.U"
   ]
  },
  {
   "cell_type": "code",
   "execution_count": 35,
   "metadata": {},
   "outputs": [
    {
     "name": "stdout",
     "output_type": "stream",
     "text": [
      "Tensor(\"U_1/2/read:0\", shape=(2, 2), dtype=float64)\n"
     ]
    }
   ],
   "source": [
    "print(factors[2])"
   ]
  },
  {
   "cell_type": "code",
   "execution_count": 1,
   "metadata": {},
   "outputs": [
    {
     "name": "stdout",
     "output_type": "stream",
     "text": [
      "cosine.txt\n",
      ".DS_Store\n",
      "shakespeare_president.pkl\n",
      "kmeans_cluster.html\n",
      "Tensor Decomposition for Malware Analysis.ipynb\n",
      "TensorDecomposition_Sept12.ipynb\n",
      "shakespeare_president\n",
      "loss.log\n",
      "A Jupyter Notebook - Tensor Decomposition for Malware Analysis.ipynb\n",
      ".ipynb_checkpoints\n",
      "notebook_heatmap.html\n"
     ]
    }
   ],
   "source": [
    "import os\n",
    "print os.listdir(os.getcwd())\n",
    "for filename in os.listdir(os.getcwd()):\n",
    "    print(filename)"
   ]
  },
  {
   "cell_type": "code",
   "execution_count": 4,
   "metadata": {},
   "outputs": [],
   "source": [
    "directory = \"/Users/Phaniteja/desktop/RA/Jupyter Notebook Version/shakespeare_president\""
   ]
  },
  {
   "cell_type": "code",
   "execution_count": 13,
   "metadata": {},
   "outputs": [
    {
     "name": "stdout",
     "output_type": "stream",
     "text": [
      "JC.txt\n",
      "['Julius Caesar\\n']\n",
      "1957-Eisenhower.txt\n",
      "['The Price of Peace\\n']\n",
      "TNK.txt\n",
      "['The Two Noble Kinsmen\\n']\n",
      "Tmp.txt\n",
      "['The Tempest\\n']\n",
      "1881-Garfield.txt\n",
      "['Fellow-Citizens:\\n']\n",
      "1905-Roosevelt.txt\n",
      "['My fellow citizens, no people on earth have more cause to be thankful than ours, and this is said reverently, in no spirit of boastfulness in our own strength, but with gratitude to the Giver of Good who has blessed us with the conditions which have enabled us to achieve so large a measure of well-being and of happiness. To us as a people it has been granted to lay the foundations of our national life in a new continent. We are the heirs of the ages, and yet we have had to pay few of the penalties which in old countries are exacted by the dead hand of a bygone civilization. We have not been obliged to fight for our existence against any alien race; and yet our life has called for the vigor and effort without which the manlier and hardier virtues wither away. Under such conditions it would be our own fault if we failed; and the success which we have had in the past, the success which we confidently believe the future will bring, should cause in us no feeling of vainglory, but rather a deep and abiding realization of all which life has offered us; a full acknowledgment of the responsibility which is ours; and a fixed determination to show that under a free government a mighty people can thrive best, alike as regards the things of the body and the things of the soul.\\n']\n",
      "1985-Reagan.txt\n",
      "[\"Senator Mathias, Chief Justice Burger, Vice President Bush, Speaker O'Neill, Senator Dole, Reverend Clergy, members of my family and friends, and my fellow citizens:\\n\"]\n",
      "1913-Wilson.txt\n",
      "['There has been a change of government. It began two years ago, when the House of Representatives became Democratic by a decisive majority. It has now been completed. The Senate about to assemble will also be Democratic. The offices of President and Vice-President have been put into the hands of Democrats. What does the change mean? That is the question that is uppermost in our minds today. That is the question I am going to try to answer, in order, if I may, to interpret the occasion.\\n']\n",
      "Cym.txt\n",
      "['Cymbeline\\n']\n",
      "2Henry4.txt\n",
      "['Henry IV, Part 2\\n']\n",
      "Cor.txt\n",
      "['Coriolanus\\n']\n",
      "1793-Washington.txt\n",
      "['Fellow citizens, I am again called upon by the voice of my country to execute the functions of its Chief Magistrate. When the occasion proper for it shall arrive, I shall endeavor to express the high sense I entertain of this distinguished honor, and of the confidence which has been reposed in me by the people of united America.\\n']\n",
      "1885-Cleveland.txt\n",
      "['Fellow citizens, in the presence of this vast assemblage of my countrymen I am about to supplement and seal by the oath which I shall take the manifestation of the will of a great and free people. In the exercise of their power and right of self-government they have committed to one of their fellow-citizens a supreme and sacred trust, and he here consecrates himself to their service.\\n']\n",
      "Rom.txt\n",
      "['Romeo and Juliet\\n']\n",
      "1789-Washington.txt\n",
      "['Fellow-Citizens of the Senate and of the House of Representatives:\\n']\n",
      "Mac.txt\n",
      "['Macbeth\\n']\n",
      "2Henry6.txt\n",
      "['Henry VI, Part 2\\n']\n",
      "1845-Polk.txt\n",
      "['Fellow citizens, without solicitation on my part, I have been chosen by the free and voluntary suffrages of my countrymen to the most honorable and most responsible office on earth. I am deeply impressed with gratitude for the confidence reposed in me. Honored with this distinguished consideration at an earlier period of life than any of my predecessors, I can not disguise the diffidence with which I am about to enter on the discharge of my official duties.\\n']\n",
      "1925-Coolidge.txt\n",
      "['My countrymen,\\n']\n",
      "1837-VanBuren.txt\n",
      "[\"Fellow citizens: The practice of all my predecessors imposes on me an obligation I cheerfully fulfill -- to accompany the first and solemn act of my public trust with an avowal of the principles that will guide me in performing it and an expression of my feelings on assuming a charge so responsible and vast. In imitating their example I tread in the footsteps of illustrious men, whose superiors it is our happiness to believe are not found on the executive calendar of any country. Among them we recognize the earliest and firmest pillars of the Republic -- those by whom our national independence was first declared, him who above all others contributed to establish it on the field of battle, and those whose expanded intellect and patriotism constructed, improved, and perfected the inestimable institutions under which we live. If such men in the position I now occupy felt themselves overwhelmed by a sense of gratitude for this the highest of all marks of their country's confidence, and by a consciousness of their inability adequately to discharge the duties of an office so difficult and exalted, how much more must these considerations affect one who can rely on no such claims for favor or forbearance! Unlike all who have preceded me, the Revolution that gave us existence as one people was achieved at the period of my birth; and whilst I contemplate with grateful reverence that memorable event, I feel that I belong to a later age and that I may not expect my countrymen to weigh my actions with the same kind and partial hand.\\n\"]\n",
      "Henry5.txt\n",
      "['Henry V\\n']\n",
      "1941-Roosevelt.txt\n",
      "['On each national day of inauguration since 1789, the people have renewed their sense of dedication to the United States.\\n']\n",
      "Tim.txt\n",
      "['Timon of Athens\\n']\n",
      ".pkl\n",
      "2001-Bush.txt\n",
      "['President Clinton, distinguished guests and my fellow citizens, the peaceful transfer of authority is rare in history, yet common in our country. With a simple oath, we affirm old traditions and make new beginnings.\\n']\n",
      "1961-Kennedy.txt\n",
      "['Vice President Johnson, Mr. Speaker, Mr. Chief Justice, President Eisenhower, Vice President Nixon, President Truman, reverend clergy, fellow citizens, we observe today not a victory of party, but a celebration of freedom -- symbolizing an end, as well as a beginning -- signifying renewal, as well as change. For I have sworn I before you and Almighty God the same solemn oath our forebears l prescribed nearly a century and three quarters ago.\\n']\n",
      "1909-Taft.txt\n",
      "['My fellow citizens: Anyone who has taken the oath I have just taken must feel a heavy weight of responsibility. If not, he has no conception of the powers and duties of the office upon which he is about to enter, or he is lacking in a proper sense of the obligation which the oath imposes.\\n']\n",
      "1945-Roosevelt.txt\n",
      "['Chief Justice, Mr. Vice President, my friends, you will understand and, I believe, agree with my wish that the form of this inauguration be simple and its words brief.\\n']\n",
      "1817-Monroe.txt\n",
      "['I should be destitute of feeling if I was not deeply affected by the strong proof which my fellow-citizens have given me of their confidence in calling me to the high office whose functions I am about to assume. As the expression of their good opinion of my conduct in the public service, I derive from it a gratification which those who are conscious of having done all that they could to merit it can alone feel. MY sensibility is increased by a just estimate of the importance of the trust and of the nature and extent of its duties, with the proper discharge of which the highest interests of a great and free people are intimately connected. Conscious of my own deficiency, I cannot enter on these duties without great anxiety for the result. From a just responsibility I will never shrink, calculating with confidence that in my best efforts to promote the public welfare my motives will always be duly appreciated and my conduct be viewed with that candor and indulgence which I have experienced in other stations.\\n']\n",
      "1949-Truman.txt\n",
      "['Mr. Vice President, Mr. Chief Justice, and fellow citizens, I accept with humility the honor which the American people have conferred upon me. I accept it with a deep resolve to do all that I can for the welfare of this Nation and for the peace of the world.\\n']\n",
      "1953-Eisenhower.txt\n",
      "['My friends, before I begin the expression of those thoughts that I deem appropriate to this moment, would you permit me the privilege of uttering a little private prayer of my own. And I ask that you bow your heads:\\n']\n",
      "Ven.txt\n",
      "['Venus and Adonis\\n']\n",
      "1841-Harrison.txt\n",
      "['Called from a retirement which I had supposed was to continue for the residue of my life to fill the chief executive office of this great and free nation, I appear before you, fellow-citizens, to take the oaths which the Constitution prescribes as a necessary qualification for the performance of its duties; and in obedience to a custom coeval with our Government and what I believe to be your expectations I proceed to present to you a summary of the principles which will govern me in the discharge of the duties which I shall be called upon to perform.\\n']\n",
      "John.txt\n",
      "['King John\\n']\n",
      "1889-Harrison.txt\n",
      "['Fellow-Citizens, there is no constitutional or legal requirement that the President shall take the oath of office in the presence of the people, but there is so manifest an appropriateness in the public induction to office of the chief executive officer of the nation that from the beginning of the Government the people, to whose service the official oath consecrates the officer, have been called to witness the solemn ceremonial. The oath taken in the presence of the people becomes a mutual covenant. The officer covenants to serve the whole body of the people by a faithful execution of the laws, so that they may be the unfailing defense and security of those who respect and observe them, and that neither wealth, station, nor the power of combinations shall be able to evade their just penalties or to wrest them from a beneficent public purpose to serve the ends of cruelty or selfishness.\\n']\n",
      "1857-Buchanan.txt\n",
      "['Fellow citizens, I appear before you this day to take the solemn oath \"that I will faithfully execute the office of President of the United States and will to the best of my ability preserve, protect, and defend the Constitution of the United States.\"\\n']\n",
      "2009-Obama.txt\n",
      "['My fellow citizens:\\n']\n",
      "1877-Hayes.txt\n",
      "['Fellow citizens, we have assembled to repeat the public ceremonial, begun by Washington, observed by all my predecessors, and now a time-honored custom, which marks the commencement of a new term of the Presidential office. Called to the duties of this great trust, I proceed, in compliance with usage, to announce some of the leading principles, on the subjects that now chiefly engage the public attention, by which it is my desire to be guided in the discharge of those duties. I shall not undertake to lay down irrevocably principles or measures of administration, but rather to speak of the motives which should animate us, and to suggest certain important ends to be attained in accordance with our institutions and essential to the welfare of our country.\\n']\n",
      "1861-Lincoln.txt\n",
      "['Fellow-Citizens of the United States: In compliance with a custom as old as the Government itself, I appear before you to address you briefly and to take in your presence the oath prescribed by the Constitution of the United States to be taken by the President \"before he enters on the execution of this office.\"\\n']\n",
      "1973-Nixon.txt\n",
      "['Mr. Vice President, Mr. Speaker, Mr. Chief Justice, Senator Cook, Mrs. Eisenhower, and my fellow citizens of this great and good country we share together:\\n']\n",
      "MV.txt\n",
      "['The Merchant of Venice\\n']\n",
      "1977-Carter.txt\n",
      "['For myself and for our Nation, I want to thank my predecessor for all he has done to heal our land.\\n']\n",
      "3Henry6.txt\n",
      "['Henry VI, Part 3\\n']\n",
      "1993-Clinton.txt\n",
      "[\"My fellow citizens, today we celebrate the mystery of American renewal. This ceremony is held in the depth of winter, but by the words we speak and the faces we show the world, we force the spring. A spring reborn in the world's oldest democracy, that brings forth the vision and courage to reinvent America. When our founders boldly declared America's independence to the world, and our purposes to the Almighty, they knew that America, to endure, would have to change. Not change for change sake, but change to preserve America's ideals: life, liberty, the pursuit of happiness.\\n\"]\n",
      "1869-Grant.txt\n",
      "['Citizens of the United States:\\n']\n",
      "1981-Reagan.txt\n",
      "[\"Senator Hatfield, Mr. Chief Justice, Mr. President, Vice President Bush, Vice President Mondale, Senator Baker, Speaker O'Neill, Reverend Moomaw, and my fellow citizens: To a few of us here today, this is a solemn and most momentous occasion; and yet, in the history of our Nation, it is a commonplace occurrence. The orderly transfer of authority as called for in the Constitution routinely takes place as it has for almost two centuries and few of us stop to think how unique we really are. In the eyes of many in the world, this every-4-year ceremony we accept as normal is nothing less than a miracle.\\n\"]\n",
      "1937-Roosevelt.txt\n",
      "['When four years ago we met to inaugurate a President, the Republic, single-minded in anxiety, stood in spirit here. We dedicated ourselves to the fulfillment of a vision -- to speed the time when there would be for all the people that security and peace essential to the pursuit of happiness. We of the Republic pledged ourselves to drive from the temple of our ancient faith those who had profaned it; to end by action, tireless and unafraid, the stagnation and despair of that day. We did those first things first.\\n']\n",
      "1917-Wilson.txt\n",
      "[\"My Fellow citizens: The four years which have elapsed since last I stood in this place have been crowded with counsel and action of the most vital interest and consequence. Perhaps no equal period in our history has been so fruitful of important reforms in our economic and industrial life or so full of significant changes in the spirit and purpose of our political action. We have sought very thoughtfully to set our house in order, correct the grosser errors and abuses of our industrial life, liberate and quicken the processes of our national genius and energy, and lift our politics to a broader view of the people's essential interests.\\n\"]\n",
      "Err.txt\n",
      "['The Comedy of Errors\\n']\n",
      "MM.txt\n",
      "['Measure for Measure\\n']\n",
      "1849-Taylor.txt\n",
      "['Elected by the American people to the highest office known to our laws, I appear here to take the oath prescribed by the Constitution, and, in compliance with a time-honored custom, to address those who are now assembled.\\n']\n",
      "WT.txt\n",
      "[\"The Winter's Tale\\n\"]\n",
      "TN.txt\n",
      "['Twelfth Night\\n']\n",
      "Tro.txt\n",
      "['Troilus and Cressida\\n']\n",
      "1933-Roosevelt.txt\n",
      "['I am certain that my fellow Americans expect that on my induction into the Presidency I will address them with a candor and a decision which the present situation of our Nation impels. This is preeminently the time to speak the truth, the whole truth, frankly and boldly. Nor need we shrink from honestly facing conditions in our country today. This great Nation will endure as it has endured, will revive and will prosper. So, first of all, let me assert my firm belief that the only thing we have to fear is fear itself -- nameless, unreasoning, unjustified terror which paralyzes needed efforts to convert retreat into advance. In every dark hour of our national life a leadership of frankness and vigor has met with that understanding and support of the people themselves which is essential to victory. I am convinced that you will again give that support to leadership in these critical days.\\n']\n",
      "Lear.txt\n",
      "['King Lear\\n']\n",
      "1809-Madison.txt\n",
      "['Unwilling to depart from examples of the most revered authority, I avail myself of the occasion now presented to express the profound impression made on me by the call of my country to the station to the duties of which I am about to pledge myself by the most solemn of sanctions. So distinguished a mark of confidence, proceeding from the deliberate and tranquil suffrage of a free and virtuous nation, would under any circumstances have commanded my gratitude and devotion, as well as filled me with an awful sense of the trust to be assumed. Under the various circumstances which give peculiar solemnity to the existing period, I feel that both the honor and the responsibility allotted to me are inexpressibly enhanced.\\n']\n",
      "Ado.txt\n",
      "['Much Ado About Nothing\\n']\n",
      "2005-Bush.txt\n"
     ]
    },
    {
     "ename": "UnicodeDecodeError",
     "evalue": "'utf-8' codec can't decode byte 0xa1 in position 837: invalid start byte",
     "output_type": "error",
     "traceback": [
      "\u001b[0;31m---------------------------------------------------------------------------\u001b[0m",
      "\u001b[0;31mUnicodeDecodeError\u001b[0m                        Traceback (most recent call last)",
      "\u001b[0;32m<ipython-input-13-8ee73e332cea>\u001b[0m in \u001b[0;36m<module>\u001b[0;34m()\u001b[0m\n\u001b[1;32m      4\u001b[0m         \u001b[0;32mcontinue\u001b[0m\u001b[0;34m\u001b[0m\u001b[0m\n\u001b[1;32m      5\u001b[0m     \u001b[0;32mwith\u001b[0m \u001b[0mopen\u001b[0m\u001b[0;34m(\u001b[0m\u001b[0mdirectory\u001b[0m\u001b[0;34m+\u001b[0m\u001b[0;34m\"/\"\u001b[0m\u001b[0;34m+\u001b[0m\u001b[0mfilename\u001b[0m\u001b[0;34m)\u001b[0m \u001b[0;32mas\u001b[0m \u001b[0mmyfile\u001b[0m\u001b[0;34m:\u001b[0m\u001b[0;34m\u001b[0m\u001b[0m\n\u001b[0;32m----> 6\u001b[0;31m         \u001b[0mhead\u001b[0m \u001b[0;34m=\u001b[0m \u001b[0mmyfile\u001b[0m\u001b[0;34m.\u001b[0m\u001b[0mreadlines\u001b[0m\u001b[0;34m(\u001b[0m\u001b[0;36m5\u001b[0m\u001b[0;34m)\u001b[0m\u001b[0;34m\u001b[0m\u001b[0m\n\u001b[0m\u001b[1;32m      7\u001b[0m     \u001b[0mprint\u001b[0m\u001b[0;34m(\u001b[0m\u001b[0mhead\u001b[0m\u001b[0;34m)\u001b[0m\u001b[0;34m\u001b[0m\u001b[0m\n",
      "\u001b[0;32m/anaconda3/lib/python3.6/codecs.py\u001b[0m in \u001b[0;36mdecode\u001b[0;34m(self, input, final)\u001b[0m\n\u001b[1;32m    319\u001b[0m         \u001b[0;31m# decode input (taking the buffer into account)\u001b[0m\u001b[0;34m\u001b[0m\u001b[0;34m\u001b[0m\u001b[0m\n\u001b[1;32m    320\u001b[0m         \u001b[0mdata\u001b[0m \u001b[0;34m=\u001b[0m \u001b[0mself\u001b[0m\u001b[0;34m.\u001b[0m\u001b[0mbuffer\u001b[0m \u001b[0;34m+\u001b[0m \u001b[0minput\u001b[0m\u001b[0;34m\u001b[0m\u001b[0m\n\u001b[0;32m--> 321\u001b[0;31m         \u001b[0;34m(\u001b[0m\u001b[0mresult\u001b[0m\u001b[0;34m,\u001b[0m \u001b[0mconsumed\u001b[0m\u001b[0;34m)\u001b[0m \u001b[0;34m=\u001b[0m \u001b[0mself\u001b[0m\u001b[0;34m.\u001b[0m\u001b[0m_buffer_decode\u001b[0m\u001b[0;34m(\u001b[0m\u001b[0mdata\u001b[0m\u001b[0;34m,\u001b[0m \u001b[0mself\u001b[0m\u001b[0;34m.\u001b[0m\u001b[0merrors\u001b[0m\u001b[0;34m,\u001b[0m \u001b[0mfinal\u001b[0m\u001b[0;34m)\u001b[0m\u001b[0;34m\u001b[0m\u001b[0m\n\u001b[0m\u001b[1;32m    322\u001b[0m         \u001b[0;31m# keep undecoded input until the next call\u001b[0m\u001b[0;34m\u001b[0m\u001b[0;34m\u001b[0m\u001b[0m\n\u001b[1;32m    323\u001b[0m         \u001b[0mself\u001b[0m\u001b[0;34m.\u001b[0m\u001b[0mbuffer\u001b[0m \u001b[0;34m=\u001b[0m \u001b[0mdata\u001b[0m\u001b[0;34m[\u001b[0m\u001b[0mconsumed\u001b[0m\u001b[0;34m:\u001b[0m\u001b[0;34m]\u001b[0m\u001b[0;34m\u001b[0m\u001b[0m\n",
      "\u001b[0;31mUnicodeDecodeError\u001b[0m: 'utf-8' codec can't decode byte 0xa1 in position 837: invalid start byte"
     ]
    }
   ],
   "source": [
    "for filename in os.listdir(directory):\n",
    "    print(filename)\n",
    "    if filename == '.pkl':\n",
    "        continue\n",
    "    with open(directory+\"/\"+filename) as myfile:\n",
    "        head = myfile.readlines(5)\n",
    "    print(head)"
   ]
  },
  {
   "cell_type": "code",
   "execution_count": 82,
   "metadata": {},
   "outputs": [
    {
     "name": "stdout",
     "output_type": "stream",
     "text": [
      "Reading /Users/Phaniteja/desktop/RA/Jupyter Notebook Version/shakespeare_president/JC.txt\n",
      "Reading /Users/Phaniteja/desktop/RA/Jupyter Notebook Version/shakespeare_president/1957-Eisenhower.txt\n",
      "Reading /Users/Phaniteja/desktop/RA/Jupyter Notebook Version/shakespeare_president/TNK.txt\n",
      "Reading /Users/Phaniteja/desktop/RA/Jupyter Notebook Version/shakespeare_president/Tmp.txt\n",
      "Reading /Users/Phaniteja/desktop/RA/Jupyter Notebook Version/shakespeare_president/1881-Garfield.txt\n",
      "Reading /Users/Phaniteja/desktop/RA/Jupyter Notebook Version/shakespeare_president/1905-Roosevelt.txt\n",
      "Reading /Users/Phaniteja/desktop/RA/Jupyter Notebook Version/shakespeare_president/1985-Reagan.txt\n",
      "Reading /Users/Phaniteja/desktop/RA/Jupyter Notebook Version/shakespeare_president/1913-Wilson.txt\n",
      "Reading /Users/Phaniteja/desktop/RA/Jupyter Notebook Version/shakespeare_president/Cym.txt\n",
      "Reading /Users/Phaniteja/desktop/RA/Jupyter Notebook Version/shakespeare_president/2Henry4.txt\n",
      "Reading /Users/Phaniteja/desktop/RA/Jupyter Notebook Version/shakespeare_president/Cor.txt\n",
      "Reading /Users/Phaniteja/desktop/RA/Jupyter Notebook Version/shakespeare_president/1793-Washington.txt\n",
      "Reading /Users/Phaniteja/desktop/RA/Jupyter Notebook Version/shakespeare_president/1885-Cleveland.txt\n",
      "Reading /Users/Phaniteja/desktop/RA/Jupyter Notebook Version/shakespeare_president/Rom.txt\n",
      "Reading /Users/Phaniteja/desktop/RA/Jupyter Notebook Version/shakespeare_president/1789-Washington.txt\n",
      "Reading /Users/Phaniteja/desktop/RA/Jupyter Notebook Version/shakespeare_president/Mac.txt\n",
      "Reading /Users/Phaniteja/desktop/RA/Jupyter Notebook Version/shakespeare_president/2Henry6.txt\n",
      "Reading /Users/Phaniteja/desktop/RA/Jupyter Notebook Version/shakespeare_president/1845-Polk.txt\n",
      "Reading /Users/Phaniteja/desktop/RA/Jupyter Notebook Version/shakespeare_president/1925-Coolidge.txt\n",
      "Reading /Users/Phaniteja/desktop/RA/Jupyter Notebook Version/shakespeare_president/1837-VanBuren.txt\n",
      "Reading /Users/Phaniteja/desktop/RA/Jupyter Notebook Version/shakespeare_president/Henry5.txt\n",
      "Reading /Users/Phaniteja/desktop/RA/Jupyter Notebook Version/shakespeare_president/1941-Roosevelt.txt\n",
      "Reading /Users/Phaniteja/desktop/RA/Jupyter Notebook Version/shakespeare_president/Tim.txt\n",
      "Reading /Users/Phaniteja/desktop/RA/Jupyter Notebook Version/shakespeare_president/.pkl\n",
      "Reading /Users/Phaniteja/desktop/RA/Jupyter Notebook Version/shakespeare_president/2001-Bush.txt\n",
      "Reading /Users/Phaniteja/desktop/RA/Jupyter Notebook Version/shakespeare_president/1961-Kennedy.txt\n",
      "Reading /Users/Phaniteja/desktop/RA/Jupyter Notebook Version/shakespeare_president/1909-Taft.txt\n",
      "Reading /Users/Phaniteja/desktop/RA/Jupyter Notebook Version/shakespeare_president/1945-Roosevelt.txt\n",
      "Reading /Users/Phaniteja/desktop/RA/Jupyter Notebook Version/shakespeare_president/1817-Monroe.txt\n",
      "Reading /Users/Phaniteja/desktop/RA/Jupyter Notebook Version/shakespeare_president/1949-Truman.txt\n",
      "Reading /Users/Phaniteja/desktop/RA/Jupyter Notebook Version/shakespeare_president/1953-Eisenhower.txt\n",
      "Reading /Users/Phaniteja/desktop/RA/Jupyter Notebook Version/shakespeare_president/Ven.txt\n",
      "Reading /Users/Phaniteja/desktop/RA/Jupyter Notebook Version/shakespeare_president/1841-Harrison.txt\n",
      "Reading /Users/Phaniteja/desktop/RA/Jupyter Notebook Version/shakespeare_president/John.txt\n",
      "Reading /Users/Phaniteja/desktop/RA/Jupyter Notebook Version/shakespeare_president/1889-Harrison.txt\n",
      "Reading /Users/Phaniteja/desktop/RA/Jupyter Notebook Version/shakespeare_president/1857-Buchanan.txt\n",
      "Reading /Users/Phaniteja/desktop/RA/Jupyter Notebook Version/shakespeare_president/2009-Obama.txt\n",
      "Reading /Users/Phaniteja/desktop/RA/Jupyter Notebook Version/shakespeare_president/1877-Hayes.txt\n",
      "Reading /Users/Phaniteja/desktop/RA/Jupyter Notebook Version/shakespeare_president/1861-Lincoln.txt\n",
      "Reading /Users/Phaniteja/desktop/RA/Jupyter Notebook Version/shakespeare_president/1973-Nixon.txt\n",
      "Reading /Users/Phaniteja/desktop/RA/Jupyter Notebook Version/shakespeare_president/MV.txt\n",
      "Reading /Users/Phaniteja/desktop/RA/Jupyter Notebook Version/shakespeare_president/1977-Carter.txt\n",
      "Reading /Users/Phaniteja/desktop/RA/Jupyter Notebook Version/shakespeare_president/3Henry6.txt\n",
      "Reading /Users/Phaniteja/desktop/RA/Jupyter Notebook Version/shakespeare_president/1993-Clinton.txt\n",
      "Reading /Users/Phaniteja/desktop/RA/Jupyter Notebook Version/shakespeare_president/1869-Grant.txt\n",
      "Reading /Users/Phaniteja/desktop/RA/Jupyter Notebook Version/shakespeare_president/1981-Reagan.txt\n",
      "Reading /Users/Phaniteja/desktop/RA/Jupyter Notebook Version/shakespeare_president/1937-Roosevelt.txt\n",
      "Reading /Users/Phaniteja/desktop/RA/Jupyter Notebook Version/shakespeare_president/1917-Wilson.txt\n",
      "Reading /Users/Phaniteja/desktop/RA/Jupyter Notebook Version/shakespeare_president/Err.txt\n",
      "Reading /Users/Phaniteja/desktop/RA/Jupyter Notebook Version/shakespeare_president/MM.txt\n",
      "Reading /Users/Phaniteja/desktop/RA/Jupyter Notebook Version/shakespeare_president/1849-Taylor.txt\n",
      "Reading /Users/Phaniteja/desktop/RA/Jupyter Notebook Version/shakespeare_president/WT.txt\n",
      "Reading /Users/Phaniteja/desktop/RA/Jupyter Notebook Version/shakespeare_president/TN.txt\n",
      "Reading /Users/Phaniteja/desktop/RA/Jupyter Notebook Version/shakespeare_president/Tro.txt\n",
      "Reading /Users/Phaniteja/desktop/RA/Jupyter Notebook Version/shakespeare_president/1933-Roosevelt.txt\n",
      "Reading /Users/Phaniteja/desktop/RA/Jupyter Notebook Version/shakespeare_president/Lear.txt\n",
      "Reading /Users/Phaniteja/desktop/RA/Jupyter Notebook Version/shakespeare_president/1809-Madison.txt\n",
      "Reading /Users/Phaniteja/desktop/RA/Jupyter Notebook Version/shakespeare_president/Ado.txt\n",
      "Reading /Users/Phaniteja/desktop/RA/Jupyter Notebook Version/shakespeare_president/2005-Bush.txt\n",
      "Reading /Users/Phaniteja/desktop/RA/Jupyter Notebook Version/shakespeare_president/TGVerona.txt\n",
      "Reading /Users/Phaniteja/desktop/RA/Jupyter Notebook Version/shakespeare_president/LLL.txt\n",
      "Reading /Users/Phaniteja/desktop/RA/Jupyter Notebook Version/shakespeare_president/Per.txt\n",
      "Reading /Users/Phaniteja/desktop/RA/Jupyter Notebook Version/shakespeare_president/1873-Grant.txt\n",
      "Reading /Users/Phaniteja/desktop/RA/Jupyter Notebook Version/shakespeare_president/Tit.txt\n",
      "Reading /Users/Phaniteja/desktop/RA/Jupyter Notebook Version/shakespeare_president/1921-Harding.txt\n",
      "Reading /Users/Phaniteja/desktop/RA/Jupyter Notebook Version/shakespeare_president/AntCleo.txt\n",
      "Reading /Users/Phaniteja/desktop/RA/Jupyter Notebook Version/shakespeare_president/1829-Jackson.txt\n",
      "Reading /Users/Phaniteja/desktop/RA/Jupyter Notebook Version/shakespeare_president/1969-Nixon.txt\n",
      "Reading /Users/Phaniteja/desktop/RA/Jupyter Notebook Version/shakespeare_president/1805-Jefferson.txt\n",
      "Reading /Users/Phaniteja/desktop/RA/Jupyter Notebook Version/shakespeare_president/1801-Jefferson.txt\n",
      "Reading /Users/Phaniteja/desktop/RA/Jupyter Notebook Version/shakespeare_president/Ham.txt\n",
      "Reading /Users/Phaniteja/desktop/RA/Jupyter Notebook Version/shakespeare_president/Henry8.txt\n",
      "Reading /Users/Phaniteja/desktop/RA/Jupyter Notebook Version/shakespeare_president/1901-McKinley.txt\n",
      "Reading /Users/Phaniteja/desktop/RA/Jupyter Notebook Version/shakespeare_president/1853-Pierce.txt\n",
      "Reading /Users/Phaniteja/desktop/RA/Jupyter Notebook Version/shakespeare_president/Shr.txt\n",
      "Reading /Users/Phaniteja/desktop/RA/Jupyter Notebook Version/shakespeare_president/AllsWell.txt\n",
      "Reading /Users/Phaniteja/desktop/RA/Jupyter Notebook Version/shakespeare_president/1813-Madison.txt\n",
      "Reading /Users/Phaniteja/desktop/RA/Jupyter Notebook Version/shakespeare_president/1929-Hoover.txt\n",
      "Reading /Users/Phaniteja/desktop/RA/Jupyter Notebook Version/shakespeare_president/1893-Cleveland.txt\n",
      "Reading /Users/Phaniteja/desktop/RA/Jupyter Notebook Version/shakespeare_president/AsYouLike.txt\n",
      "Reading /Users/Phaniteja/desktop/RA/Jupyter Notebook Version/shakespeare_president/1989-Bush.txt\n",
      "Reading /Users/Phaniteja/desktop/RA/Jupyter Notebook Version/shakespeare_president/1897-McKinley.txt\n",
      "Reading /Users/Phaniteja/desktop/RA/Jupyter Notebook Version/shakespeare_president/1797-Adams.txt\n",
      "Reading /Users/Phaniteja/desktop/RA/Jupyter Notebook Version/shakespeare_president/1833-Jackson.txt\n",
      "Reading /Users/Phaniteja/desktop/RA/Jupyter Notebook Version/shakespeare_president/1965-Johnson.txt\n",
      "Reading /Users/Phaniteja/desktop/RA/Jupyter Notebook Version/shakespeare_president/1Henry4.txt\n",
      "Reading /Users/Phaniteja/desktop/RA/Jupyter Notebook Version/shakespeare_president/Richard2.txt\n",
      "Reading /Users/Phaniteja/desktop/RA/Jupyter Notebook Version/shakespeare_president/1997-Clinton.txt\n",
      "Reading /Users/Phaniteja/desktop/RA/Jupyter Notebook Version/shakespeare_president/1Henry6.txt\n",
      "Reading /Users/Phaniteja/desktop/RA/Jupyter Notebook Version/shakespeare_president/Oth.txt\n",
      "Reading /Users/Phaniteja/desktop/RA/Jupyter Notebook Version/shakespeare_president/MND.txt\n",
      "Reading /Users/Phaniteja/desktop/RA/Jupyter Notebook Version/shakespeare_president/1821-Monroe.txt\n",
      "Reading /Users/Phaniteja/desktop/RA/Jupyter Notebook Version/shakespeare_president/1825-Adams.txt\n",
      "Reading /Users/Phaniteja/desktop/RA/Jupyter Notebook Version/shakespeare_president/Wiv.txt\n",
      "Reading /Users/Phaniteja/desktop/RA/Jupyter Notebook Version/shakespeare_president/1865-Lincoln.txt\n",
      "Reading /Users/Phaniteja/desktop/RA/Jupyter Notebook Version/shakespeare_president/Richard3.txt\n",
      "[0, 3, 6, 9, 12, 15, 18, 21, 24, 27, 30, 33, 35, 38, 41, 44, 47, 50, 53, 56, 59, 62, 65, 68, 71, 74, 77, 80, 83, 86, 89, 92, 95, 98, 101, 104, 107, 110, 113, 116, 119, 122, 125, 128, 131, 134, 137, 140, 143, 146, 149, 152, 155, 158, 161, 164, 167, 170, 173, 176, 179, 182, 185, 188, 191, 194, 197, 200, 203, 206, 209, 212, 215, 218, 221, 224, 227, 230, 233, 236, 239, 242, 245, 248, 251, 254, 257, 260, 263, 266, 269, 272, 275, 278, 281, 284, 287]\n",
      "['Richard III\\n', 'by William Shakespeare\\n', 'Edited by Barbara A. Mowat and Paul Werstine\\n']\n"
     ]
    }
   ],
   "source": [
    "import numpy as np\n",
    "tensor = np.zeros((98, 4000, 3))\n",
    "pos = 0\n",
    "document_cutoff_positions = []\n",
    "doc_content = []\n",
    "max_sentences = 3\n",
    "max_matrix_height = 0\n",
    "file_counter  = 0 \n",
    "for file_name in os.listdir(directory):\n",
    "            file_counter = file_counter + 1\n",
    "            doc_content = []\n",
    "            document_cutoff_positions.append(pos)\n",
    "            with open(directory + \"/\" + file_name, \"r\", errors=\"ignore\") as file:\n",
    "                print(\"Reading %s\" %directory + \"/\" + file_name)\n",
    "                for line in file:\n",
    "                    if len(line) > 2:\n",
    "                        pos += 1\n",
    "                        doc_content.append(line)\n",
    "                    if pos - document_cutoff_positions[-1] >= max_sentences:\n",
    "                        #doc_content.append(\"////////////////////////\")\n",
    "                        x = (\"\".join(doc_content))\n",
    "                        l = (getWords(x))\n",
    "                        le = int(len(l)/3)\n",
    "                        for i in range(0,len(l)):\n",
    "                            if i < le:\n",
    "#                                 if l[i] not in large_dict:\n",
    "#                                     large_dict[l[i]]=1\n",
    "#                                     tensor[file_counter][i][0] = 1\n",
    "#                                 else:\n",
    "                                    word_id = dict_tensor[l[i]]\n",
    "                                    tensor[file_counter][word_id][0] = tensor[file_counter][word_id][0] + 1\n",
    "#                                     print(word_id)\n",
    "#                                     print(tensor[file_counter][word_id][0])\n",
    "#                                     break\n",
    "                                #print(i,l[i],\"Top 33%\")\n",
    "                            elif i < (2*le):\n",
    "#                                 if l[i] not in large_dict:\n",
    "#                                     large_dict[l[i]]=1\n",
    "#                                     tensor[file_counter][i][1] = 1\n",
    "#                                 else:\n",
    "                                    word_id = dict_tensor[l[i]]\n",
    "                                    tensor[file_counter][word_id][1] = tensor[file_counter][word_id][1] + 1\n",
    "                                #print(i,l[i],\"Top 66%\")\n",
    "                            else:\n",
    "#                                 if l[i] not in large_dict:\n",
    "#                                     large_dict[l[i]]=1\n",
    "#                                     tensor[file_counter][i][2] = 1\n",
    "#                                 else:\n",
    "                                    word_id = dict_tensor[l[i]]\n",
    "                                    tensor[file_counter][word_id][2] = tensor[file_counter][word_id][2] + 1\n",
    "                                #print(i,l[i],\"Top 100%\")\n",
    "                        break\n",
    "                if max_matrix_height < pos - document_cutoff_positions[-1]:\n",
    "                    max_matrix_height = pos - document_cutoff_positions[-1]\n",
    "document_cutoff_positions.append(pos)\n",
    "print(document_cutoff_positions)\n",
    "print(doc_content)\n",
    "x1 = vectorizer.fit_transform(doc_content)\n",
    "matrix_length = len(vectorizer.get_feature_names())"
   ]
  },
  {
   "cell_type": "code",
   "execution_count": 22,
   "metadata": {
    "collapsed": true
   },
   "outputs": [],
   "source": [
    "from sklearn.feature_extraction.text import TfidfVectorizer\n",
    "vectorizer = TfidfVectorizer(use_idf=False)"
   ]
  },
  {
   "cell_type": "code",
   "execution_count": 24,
   "metadata": {},
   "outputs": [
    {
     "name": "stdout",
     "output_type": "stream",
     "text": [
      "2918\n"
     ]
    }
   ],
   "source": [
    "print(matrix_length)"
   ]
  },
  {
   "cell_type": "code",
   "execution_count": 28,
   "metadata": {},
   "outputs": [
    {
     "data": {
      "text/plain": [
       "scipy.sparse.csr.csr_matrix"
      ]
     },
     "execution_count": 28,
     "metadata": {},
     "output_type": "execute_result"
    }
   ],
   "source": [
    "type(x1)"
   ]
  },
  {
   "cell_type": "code",
   "execution_count": 29,
   "metadata": {},
   "outputs": [
    {
     "data": {
      "text/plain": [
       "(382, 2918)"
      ]
     },
     "execution_count": 29,
     "metadata": {},
     "output_type": "execute_result"
    }
   ],
   "source": [
    "x1.shape"
   ]
  },
  {
   "cell_type": "code",
   "execution_count": 30,
   "metadata": {},
   "outputs": [
    {
     "data": {
      "text/plain": [
       "list"
      ]
     },
     "execution_count": 30,
     "metadata": {},
     "output_type": "execute_result"
    }
   ],
   "source": [
    "type(doc_content)"
   ]
  },
  {
   "cell_type": "code",
   "execution_count": 31,
   "metadata": {},
   "outputs": [
    {
     "data": {
      "text/plain": [
       "382"
      ]
     },
     "execution_count": 31,
     "metadata": {},
     "output_type": "execute_result"
    }
   ],
   "source": [
    "len(doc_content)"
   ]
  },
  {
   "cell_type": "code",
   "execution_count": 34,
   "metadata": {
    "collapsed": true
   },
   "outputs": [],
   "source": [
    "text1 =\"Hello world! It's time for ROBO 2.0\"\n",
    "\n",
    "import re\n",
    "def getWords(text):\n",
    "    return re.compile('\\w+').findall(text)"
   ]
  },
  {
   "cell_type": "code",
   "execution_count": 35,
   "metadata": {},
   "outputs": [
    {
     "data": {
      "text/plain": [
       "['Hello', 'world', 'It', 's', 'time', 'for', 'ROBO', '2', '0']"
      ]
     },
     "execution_count": 35,
     "metadata": {},
     "output_type": "execute_result"
    }
   ],
   "source": [
    "getWords(text1)"
   ]
  },
  {
   "cell_type": "code",
   "execution_count": 51,
   "metadata": {},
   "outputs": [
    {
     "name": "stdout",
     "output_type": "stream",
     "text": [
      "96\n"
     ]
    }
   ],
   "source": [
    "print(file_counter)"
   ]
  },
  {
   "cell_type": "code",
   "execution_count": 57,
   "metadata": {},
   "outputs": [
    {
     "name": "stdout",
     "output_type": "stream",
     "text": [
      "(98, 1000, 3)\n"
     ]
    }
   ],
   "source": [
    "print(tensor.shape)"
   ]
  },
  {
   "cell_type": "code",
   "execution_count": 71,
   "metadata": {},
   "outputs": [
    {
     "name": "stdout",
     "output_type": "stream",
     "text": [
      "Reading /Users/Phaniteja/desktop/RA/Jupyter Notebook Version/shakespeare_president/JC.txt\n",
      "Reading /Users/Phaniteja/desktop/RA/Jupyter Notebook Version/shakespeare_president/1957-Eisenhower.txt\n",
      "Reading /Users/Phaniteja/desktop/RA/Jupyter Notebook Version/shakespeare_president/TNK.txt\n",
      "Reading /Users/Phaniteja/desktop/RA/Jupyter Notebook Version/shakespeare_president/Tmp.txt\n",
      "Reading /Users/Phaniteja/desktop/RA/Jupyter Notebook Version/shakespeare_president/1881-Garfield.txt\n",
      "Reading /Users/Phaniteja/desktop/RA/Jupyter Notebook Version/shakespeare_president/1905-Roosevelt.txt\n",
      "Reading /Users/Phaniteja/desktop/RA/Jupyter Notebook Version/shakespeare_president/1985-Reagan.txt\n",
      "Reading /Users/Phaniteja/desktop/RA/Jupyter Notebook Version/shakespeare_president/1913-Wilson.txt\n",
      "Reading /Users/Phaniteja/desktop/RA/Jupyter Notebook Version/shakespeare_president/Cym.txt\n",
      "Reading /Users/Phaniteja/desktop/RA/Jupyter Notebook Version/shakespeare_president/2Henry4.txt\n",
      "Reading /Users/Phaniteja/desktop/RA/Jupyter Notebook Version/shakespeare_president/Cor.txt\n",
      "Reading /Users/Phaniteja/desktop/RA/Jupyter Notebook Version/shakespeare_president/1793-Washington.txt\n",
      "Reading /Users/Phaniteja/desktop/RA/Jupyter Notebook Version/shakespeare_president/1885-Cleveland.txt\n",
      "Reading /Users/Phaniteja/desktop/RA/Jupyter Notebook Version/shakespeare_president/Rom.txt\n",
      "Reading /Users/Phaniteja/desktop/RA/Jupyter Notebook Version/shakespeare_president/1789-Washington.txt\n",
      "Reading /Users/Phaniteja/desktop/RA/Jupyter Notebook Version/shakespeare_president/Mac.txt\n",
      "Reading /Users/Phaniteja/desktop/RA/Jupyter Notebook Version/shakespeare_president/2Henry6.txt\n",
      "Reading /Users/Phaniteja/desktop/RA/Jupyter Notebook Version/shakespeare_president/1845-Polk.txt\n",
      "Reading /Users/Phaniteja/desktop/RA/Jupyter Notebook Version/shakespeare_president/1925-Coolidge.txt\n",
      "Reading /Users/Phaniteja/desktop/RA/Jupyter Notebook Version/shakespeare_president/1837-VanBuren.txt\n",
      "Reading /Users/Phaniteja/desktop/RA/Jupyter Notebook Version/shakespeare_president/Henry5.txt\n",
      "Reading /Users/Phaniteja/desktop/RA/Jupyter Notebook Version/shakespeare_president/1941-Roosevelt.txt\n",
      "Reading /Users/Phaniteja/desktop/RA/Jupyter Notebook Version/shakespeare_president/Tim.txt\n",
      "Reading /Users/Phaniteja/desktop/RA/Jupyter Notebook Version/shakespeare_president/.pkl\n",
      "Reading /Users/Phaniteja/desktop/RA/Jupyter Notebook Version/shakespeare_president/2001-Bush.txt\n",
      "Reading /Users/Phaniteja/desktop/RA/Jupyter Notebook Version/shakespeare_president/1961-Kennedy.txt\n",
      "Reading /Users/Phaniteja/desktop/RA/Jupyter Notebook Version/shakespeare_president/1909-Taft.txt\n",
      "Reading /Users/Phaniteja/desktop/RA/Jupyter Notebook Version/shakespeare_president/1945-Roosevelt.txt\n",
      "Reading /Users/Phaniteja/desktop/RA/Jupyter Notebook Version/shakespeare_president/1817-Monroe.txt\n",
      "Reading /Users/Phaniteja/desktop/RA/Jupyter Notebook Version/shakespeare_president/1949-Truman.txt\n",
      "Reading /Users/Phaniteja/desktop/RA/Jupyter Notebook Version/shakespeare_president/1953-Eisenhower.txt\n",
      "Reading /Users/Phaniteja/desktop/RA/Jupyter Notebook Version/shakespeare_president/Ven.txt\n",
      "Reading /Users/Phaniteja/desktop/RA/Jupyter Notebook Version/shakespeare_president/1841-Harrison.txt\n",
      "Reading /Users/Phaniteja/desktop/RA/Jupyter Notebook Version/shakespeare_president/John.txt\n",
      "Reading /Users/Phaniteja/desktop/RA/Jupyter Notebook Version/shakespeare_president/1889-Harrison.txt\n",
      "Reading /Users/Phaniteja/desktop/RA/Jupyter Notebook Version/shakespeare_president/1857-Buchanan.txt\n",
      "Reading /Users/Phaniteja/desktop/RA/Jupyter Notebook Version/shakespeare_president/2009-Obama.txt\n",
      "Reading /Users/Phaniteja/desktop/RA/Jupyter Notebook Version/shakespeare_president/1877-Hayes.txt\n",
      "Reading /Users/Phaniteja/desktop/RA/Jupyter Notebook Version/shakespeare_president/1861-Lincoln.txt\n",
      "Reading /Users/Phaniteja/desktop/RA/Jupyter Notebook Version/shakespeare_president/1973-Nixon.txt\n",
      "Reading /Users/Phaniteja/desktop/RA/Jupyter Notebook Version/shakespeare_president/MV.txt\n",
      "Reading /Users/Phaniteja/desktop/RA/Jupyter Notebook Version/shakespeare_president/1977-Carter.txt\n",
      "Reading /Users/Phaniteja/desktop/RA/Jupyter Notebook Version/shakespeare_president/3Henry6.txt\n",
      "Reading /Users/Phaniteja/desktop/RA/Jupyter Notebook Version/shakespeare_president/1993-Clinton.txt\n",
      "Reading /Users/Phaniteja/desktop/RA/Jupyter Notebook Version/shakespeare_president/1869-Grant.txt\n",
      "Reading /Users/Phaniteja/desktop/RA/Jupyter Notebook Version/shakespeare_president/1981-Reagan.txt\n",
      "Reading /Users/Phaniteja/desktop/RA/Jupyter Notebook Version/shakespeare_president/1937-Roosevelt.txt\n",
      "Reading /Users/Phaniteja/desktop/RA/Jupyter Notebook Version/shakespeare_president/1917-Wilson.txt\n",
      "Reading /Users/Phaniteja/desktop/RA/Jupyter Notebook Version/shakespeare_president/Err.txt\n",
      "Reading /Users/Phaniteja/desktop/RA/Jupyter Notebook Version/shakespeare_president/MM.txt\n",
      "Reading /Users/Phaniteja/desktop/RA/Jupyter Notebook Version/shakespeare_president/1849-Taylor.txt\n",
      "Reading /Users/Phaniteja/desktop/RA/Jupyter Notebook Version/shakespeare_president/WT.txt\n",
      "Reading /Users/Phaniteja/desktop/RA/Jupyter Notebook Version/shakespeare_president/TN.txt\n",
      "Reading /Users/Phaniteja/desktop/RA/Jupyter Notebook Version/shakespeare_president/Tro.txt\n",
      "Reading /Users/Phaniteja/desktop/RA/Jupyter Notebook Version/shakespeare_president/1933-Roosevelt.txt\n",
      "Reading /Users/Phaniteja/desktop/RA/Jupyter Notebook Version/shakespeare_president/Lear.txt\n",
      "Reading /Users/Phaniteja/desktop/RA/Jupyter Notebook Version/shakespeare_president/1809-Madison.txt\n",
      "Reading /Users/Phaniteja/desktop/RA/Jupyter Notebook Version/shakespeare_president/Ado.txt\n",
      "Reading /Users/Phaniteja/desktop/RA/Jupyter Notebook Version/shakespeare_president/2005-Bush.txt\n",
      "Reading /Users/Phaniteja/desktop/RA/Jupyter Notebook Version/shakespeare_president/TGVerona.txt\n",
      "Reading /Users/Phaniteja/desktop/RA/Jupyter Notebook Version/shakespeare_president/LLL.txt\n",
      "Reading /Users/Phaniteja/desktop/RA/Jupyter Notebook Version/shakespeare_president/Per.txt\n",
      "Reading /Users/Phaniteja/desktop/RA/Jupyter Notebook Version/shakespeare_president/1873-Grant.txt\n",
      "Reading /Users/Phaniteja/desktop/RA/Jupyter Notebook Version/shakespeare_president/Tit.txt\n",
      "Reading /Users/Phaniteja/desktop/RA/Jupyter Notebook Version/shakespeare_president/1921-Harding.txt\n",
      "Reading /Users/Phaniteja/desktop/RA/Jupyter Notebook Version/shakespeare_president/AntCleo.txt\n",
      "Reading /Users/Phaniteja/desktop/RA/Jupyter Notebook Version/shakespeare_president/1829-Jackson.txt\n",
      "Reading /Users/Phaniteja/desktop/RA/Jupyter Notebook Version/shakespeare_president/1969-Nixon.txt\n",
      "Reading /Users/Phaniteja/desktop/RA/Jupyter Notebook Version/shakespeare_president/1805-Jefferson.txt\n",
      "Reading /Users/Phaniteja/desktop/RA/Jupyter Notebook Version/shakespeare_president/1801-Jefferson.txt\n",
      "Reading /Users/Phaniteja/desktop/RA/Jupyter Notebook Version/shakespeare_president/Ham.txt\n",
      "Reading /Users/Phaniteja/desktop/RA/Jupyter Notebook Version/shakespeare_president/Henry8.txt\n",
      "Reading /Users/Phaniteja/desktop/RA/Jupyter Notebook Version/shakespeare_president/1901-McKinley.txt\n",
      "Reading /Users/Phaniteja/desktop/RA/Jupyter Notebook Version/shakespeare_president/1853-Pierce.txt\n",
      "Reading /Users/Phaniteja/desktop/RA/Jupyter Notebook Version/shakespeare_president/Shr.txt\n",
      "Reading /Users/Phaniteja/desktop/RA/Jupyter Notebook Version/shakespeare_president/AllsWell.txt\n",
      "Reading /Users/Phaniteja/desktop/RA/Jupyter Notebook Version/shakespeare_president/1813-Madison.txt\n",
      "Reading /Users/Phaniteja/desktop/RA/Jupyter Notebook Version/shakespeare_president/1929-Hoover.txt\n",
      "Reading /Users/Phaniteja/desktop/RA/Jupyter Notebook Version/shakespeare_president/1893-Cleveland.txt\n",
      "Reading /Users/Phaniteja/desktop/RA/Jupyter Notebook Version/shakespeare_president/AsYouLike.txt\n",
      "Reading /Users/Phaniteja/desktop/RA/Jupyter Notebook Version/shakespeare_president/1989-Bush.txt\n",
      "Reading /Users/Phaniteja/desktop/RA/Jupyter Notebook Version/shakespeare_president/1897-McKinley.txt\n",
      "Reading /Users/Phaniteja/desktop/RA/Jupyter Notebook Version/shakespeare_president/1797-Adams.txt\n",
      "Reading /Users/Phaniteja/desktop/RA/Jupyter Notebook Version/shakespeare_president/1833-Jackson.txt\n",
      "Reading /Users/Phaniteja/desktop/RA/Jupyter Notebook Version/shakespeare_president/1965-Johnson.txt\n",
      "Reading /Users/Phaniteja/desktop/RA/Jupyter Notebook Version/shakespeare_president/1Henry4.txt\n",
      "Reading /Users/Phaniteja/desktop/RA/Jupyter Notebook Version/shakespeare_president/Richard2.txt\n",
      "Reading /Users/Phaniteja/desktop/RA/Jupyter Notebook Version/shakespeare_president/1997-Clinton.txt\n",
      "Reading /Users/Phaniteja/desktop/RA/Jupyter Notebook Version/shakespeare_president/1Henry6.txt\n",
      "Reading /Users/Phaniteja/desktop/RA/Jupyter Notebook Version/shakespeare_president/Oth.txt\n",
      "Reading /Users/Phaniteja/desktop/RA/Jupyter Notebook Version/shakespeare_president/MND.txt\n",
      "Reading /Users/Phaniteja/desktop/RA/Jupyter Notebook Version/shakespeare_president/1821-Monroe.txt\n",
      "Reading /Users/Phaniteja/desktop/RA/Jupyter Notebook Version/shakespeare_president/1825-Adams.txt\n",
      "Reading /Users/Phaniteja/desktop/RA/Jupyter Notebook Version/shakespeare_president/Wiv.txt\n",
      "Reading /Users/Phaniteja/desktop/RA/Jupyter Notebook Version/shakespeare_president/1865-Lincoln.txt\n",
      "Reading /Users/Phaniteja/desktop/RA/Jupyter Notebook Version/shakespeare_president/Richard3.txt\n"
     ]
    }
   ],
   "source": [
    "dict_tensor = {}\n",
    "directory = \"/Users/Phaniteja/desktop/RA/Jupyter Notebook Version/shakespeare_president\"\n",
    "word_counter = 0 \n",
    "for file_name in os.listdir(directory):\n",
    "    with open(directory + \"/\" + file_name, \"r\", errors=\"ignore\") as file:\n",
    "                pos  = 0 \n",
    "                doc_content = []\n",
    "                print(\"Reading %s\" %directory + \"/\" + file_name)\n",
    "                for line in file:\n",
    "                    if len(line) > 2:\n",
    "                        pos += 1\n",
    "                        doc_content.append(line)\n",
    "                    if pos == 3:\n",
    "                        x = (\"\".join(doc_content))\n",
    "                        l = (getWords(x))\n",
    "                        for i in range(0,len(l)):\n",
    "                            if l[i] not in dict_tensor:\n",
    "                                word_counter = word_counter +1\n",
    "                                dict_tensor[l[i]]=word_counter\n",
    "                            else:\n",
    "                                continue\n",
    "                        break \n",
    "                        "
   ]
  },
  {
   "cell_type": "code",
   "execution_count": 65,
   "metadata": {},
   "outputs": [
    {
     "name": "stdout",
     "output_type": "stream",
     "text": [
      "3093\n"
     ]
    }
   ],
   "source": [
    "print(len(dict_tensor))"
   ]
  },
  {
   "cell_type": "code",
   "execution_count": 72,
   "metadata": {},
   "outputs": [
    {
     "name": "stdout",
     "output_type": "stream",
     "text": [
      "{'Julius': 1, 'Caesar': 2, 'by': 3, 'William': 4, 'Shakespeare': 5, 'Edited': 6, 'Barbara': 7, 'A': 8, 'Mowat': 9, 'and': 10, 'Paul': 11, 'Werstine': 12, 'The': 13, 'Price': 14, 'of': 15, 'Peace': 16, 'Mr': 17, 'Chairman': 18, 'Vice': 19, 'President': 20, 'Chief': 21, 'Justice': 22, 'Speaker': 23, 'members': 24, 'my': 25, 'family': 26, 'friends': 27, 'countrymen': 28, 'the': 29, 'country': 30, 'wherever': 31, 'they': 32, 'may': 33, 'be': 34, 'we': 35, 'meet': 36, 'again': 37, 'as': 38, 'upon': 39, 'a': 40, 'like': 41, 'moment': 42, 'four': 43, 'years': 44, 'ago': 45, 'you': 46, 'have': 47, 'witnessed': 48, 'solemn': 49, 'oath': 50, 'service': 51, 'to': 52, 'I': 53, 'too': 54, 'am': 55, 'witness': 56, 'today': 57, 'testifying': 58, 'in': 59, 'your': 60, 'name': 61, 'principles': 62, 'purposes': 63, 'which': 64, 'people': 65, 'are': 66, 'pledged': 67, 'Two': 68, 'Noble': 69, 'Kinsmen': 70, 'Tempest': 71, 'Fellow': 72, 'Citizens': 73, 'We': 74, 'stand': 75, 'day': 76, 'an': 77, 'eminence': 78, 'overlooks': 79, 'hundred': 80, 'national': 81, 'life': 82, 'century': 83, 'crowded': 84, 'with': 85, 'perils': 86, 'but': 87, 'crowned': 88, 'triumphs': 89, 'liberty': 90, 'law': 91, 'Before': 92, 'continuing': 93, 'onward': 94, 'march': 95, 'let': 96, 'us': 97, 'pause': 98, 'on': 99, 'this': 100, 'height': 101, 'for': 102, 'strengthen': 103, 'our': 104, 'faith': 105, 'renew': 106, 'hope': 107, 'glance': 108, 'at': 109, 'pathway': 110, 'along': 111, 'traveled': 112, 'It': 113, 'is': 114, 'now': 115, 'three': 116, 'days': 117, 'more': 118, 'than': 119, 'since': 120, 'adoption': 121, 'first': 122, 'written': 123, 'constitution': 124, 'United': 125, 'States': 126, 'Articles': 127, 'Confederation': 128, 'Perpetual': 129, 'Union': 130, 'new': 131, 'Republic': 132, 'was': 133, 'then': 134, 'beset': 135, 'danger': 136, 'every': 137, 'hand': 138, 'had': 139, 'not': 140, 'conquered': 141, 'place': 142, 'nations': 143, 'decisive': 144, 'battle': 145, 'war': 146, 'independence': 147, 'whose': 148, 'centennial': 149, 'anniversary': 150, 'will': 151, 'soon': 152, 'gratefully': 153, 'celebrated': 154, 'Yorktown': 155, 'yet': 156, 'been': 157, 'fought': 158, 'colonists': 159, 'were': 160, 'struggling': 161, 'only': 162, 'against': 163, 'armies': 164, 'great': 165, 'nation': 166, 'settled': 167, 'opinions': 168, 'mankind': 169, 'world': 170, 'did': 171, 'believe': 172, 'that': 173, 'supreme': 174, 'authority': 175, 'government': 176, 'could': 177, 'safely': 178, 'intrusted': 179, 'guardianship': 180, 'themselves': 181, 'My': 182, 'fellow': 183, 'citizens': 184, 'no': 185, 'earth': 186, 'cause': 187, 'thankful': 188, 'ours': 189, 'said': 190, 'reverently': 191, 'spirit': 192, 'boastfulness': 193, 'own': 194, 'strength': 195, 'gratitude': 196, 'Giver': 197, 'Good': 198, 'who': 199, 'has': 200, 'blessed': 201, 'conditions': 202, 'enabled': 203, 'achieve': 204, 'so': 205, 'large': 206, 'measure': 207, 'well': 208, 'being': 209, 'happiness': 210, 'To': 211, 'it': 212, 'granted': 213, 'lay': 214, 'foundations': 215, 'continent': 216, 'heirs': 217, 'ages': 218, 'pay': 219, 'few': 220, 'penalties': 221, 'old': 222, 'countries': 223, 'exacted': 224, 'dead': 225, 'bygone': 226, 'civilization': 227, 'obliged': 228, 'fight': 229, 'existence': 230, 'any': 231, 'alien': 232, 'race': 233, 'called': 234, 'vigor': 235, 'effort': 236, 'without': 237, 'manlier': 238, 'hardier': 239, 'virtues': 240, 'wither': 241, 'away': 242, 'Under': 243, 'such': 244, 'would': 245, 'fault': 246, 'if': 247, 'failed': 248, 'success': 249, 'past': 250, 'confidently': 251, 'future': 252, 'bring': 253, 'should': 254, 'feeling': 255, 'vainglory': 256, 'rather': 257, 'deep': 258, 'abiding': 259, 'realization': 260, 'all': 261, 'offered': 262, 'full': 263, 'acknowledgment': 264, 'responsibility': 265, 'fixed': 266, 'determination': 267, 'show': 268, 'under': 269, 'free': 270, 'mighty': 271, 'can': 272, 'thrive': 273, 'best': 274, 'alike': 275, 'regards': 276, 'things': 277, 'body': 278, 'soul': 279, 'Much': 280, 'given': 281, 'much': 282, 'rightfully': 283, 'expected': 284, 'from': 285, 'duties': 286, 'others': 287, 'ourselves': 288, 'shirk': 289, 'neither': 290, 'become': 291, 'forced': 292, 'fact': 293, 'its': 294, 'greatness': 295, 'into': 296, 'relations': 297, 'other': 298, 'must': 299, 'behave': 300, 'beseems': 301, 'responsibilities': 302, 'Toward': 303, 'small': 304, 'attitude': 305, 'one': 306, 'cordial': 307, 'sincere': 308, 'friendship': 309, 'words': 310, 'deeds': 311, 'earnestly': 312, 'desirous': 313, 'securing': 314, 'their': 315, 'good': 316, 'acting': 317, 'toward': 318, 'them': 319, 'just': 320, 'generous': 321, 'recognition': 322, 'rights': 323, 'But': 324, 'justice': 325, 'generosity': 326, 'individual': 327, 'count': 328, 'most': 329, 'when': 330, 'shown': 331, 'weak': 332, 'strong': 333, 'While': 334, 'ever': 335, 'careful': 336, 'refrain': 337, 'wrongdoing': 338, 'less': 339, 'insistent': 340, 'wronged': 341, 'wish': 342, 'peace': 343, 'righteousness': 344, 'because': 345, 'think': 346, 'right': 347, 'afraid': 348, 'No': 349, 'acts': 350, 'manfully': 351, 'justly': 352, 'fear': 353, 'power': 354, 'able': 355, 'single': 356, 'out': 357, 'subject': 358, 'insolent': 359, 'aggression': 360, 'Our': 361, 'powers': 362, 'important': 363, 'still': 364, 'among': 365, 'Such': 366, 'growth': 367, 'wealth': 368, 'population': 369, 'seen': 370, 'during': 371, 'quarter': 372, 'inevitably': 373, 'accompanied': 374, 'problems': 375, 'before': 376, 'rises': 377, 'Power': 378, 'invariably': 379, 'means': 380, 'both': 381, 'forefathers': 382, 'faced': 383, 'certain': 384, 'outgrown': 385, 'face': 386, 'very': 387, 'impossible': 388, 'foresee': 389, 'Modern': 390, 'complex': 391, 'intense': 392, 'tremendous': 393, 'changes': 394, 'wrought': 395, 'extraordinary': 396, 'industrial': 397, 'development': 398, 'last': 399, 'half': 400, 'felt': 401, 'fiber': 402, 'social': 403, 'political': 404, 'Never': 405, 'men': 406, 'tried': 407, 'vast': 408, 'formidable': 409, 'experiment': 410, 'administering': 411, 'affairs': 412, 'forms': 413, 'Democratic': 414, 'republic': 415, 'told': 416, 'marvelous': 417, 'material': 418, 'developed': 419, 'high': 420, 'degree': 421, 'energy': 422, 'self': 423, 'reliance': 424, 'initiative': 425, 'also': 426, 'brought': 427, 'care': 428, 'anxiety': 429, 'inseparable': 430, 'accumulation': 431, 'centers': 432, 'Upon': 433, 'depends': 434, 'welfare': 435, 'If': 436, 'fail': 437, 'throughout': 438, 'rock': 439, 'therefore': 440, 'heavy': 441, 'generations': 442, 'unborn': 443, 'There': 444, 'reason': 445, 'why': 446, 'there': 447, 'seriously': 448, 'hiding': 449, 'gravity': 450, 'nor': 451, 'fearing': 452, 'approach': 453, 'these': 454, 'unbending': 455, 'unflinching': 456, 'purpose': 457, 'solve': 458, 'aright': 459, 'Senator': 460, 'Mathias': 461, 'Burger': 462, 'Bush': 463, 'O': 464, 'Neill': 465, 'Dole': 466, 'Reverend': 467, 'Clergy': 468, 'This': 469, 'made': 470, 'brighter': 471, 'presence': 472, 'here': 473, 'time': 474, 'absent': 475, 'John': 476, 'Stennis': 477, 'God': 478, 'bless': 479, 'welcome': 480, 'back': 481, 'change': 482, 'began': 483, 'two': 484, 'House': 485, 'Representatives': 486, 'became': 487, 'majority': 488, 'completed': 489, 'Senate': 490, 'about': 491, 'assemble': 492, 'offices': 493, 'put': 494, 'hands': 495, 'Democrats': 496, 'What': 497, 'does': 498, 'mean': 499, 'That': 500, 'question': 501, 'uppermost': 502, 'minds': 503, 'going': 504, 'try': 505, 'answer': 506, 'order': 507, 'interpret': 508, 'occasion': 509, 'mere': 510, 'party': 511, 'little': 512, 'except': 513, 'Nation': 514, 'using': 515, 'definite': 516, 'mistake': 517, 'seeks': 518, 'use': 519, 'Party': 520, 'plans': 521, 'point': 522, 'view': 523, 'Some': 524, 'grown': 525, 'familiar': 526, 'begun': 527, 'creep': 528, 'habit': 529, 'thought': 530, 'lives': 531, 'altered': 532, 'aspect': 533, 'latterly': 534, 'looked': 535, 'critically': 536, 'fresh': 537, 'awakened': 538, 'eyes': 539, 'dropped': 540, 'disguises': 541, 'sinister': 542, 'look': 543, 'frankly': 544, 'willing': 545, 'comprehend': 546, 'real': 547, 'character': 548, 'come': 549, 'assume': 550, 'long': 551, 'believed': 552, 'stuff': 553, 'convictions': 554, 'refreshed': 555, 'insight': 556, 'see': 557, 'many': 558, 'incomparably': 559, 'aspects': 560, 'diversity': 561, 'sweep': 562, 'industries': 563, 'conceived': 564, 'built': 565, 'up': 566, 'genius': 567, 'limitless': 568, 'enterprise': 569, 'groups': 570, 'moral': 571, 'force': 572, 'Nowhere': 573, 'else': 574, 'noble': 575, 'women': 576, 'exhibited': 577, 'striking': 578, 'beauty': 579, 'sympathy': 580, 'helpfulness': 581, 'counsel': 582, 'efforts': 583, 'rectify': 584, 'wrong': 585, 'alleviate': 586, 'suffering': 587, 'set': 588, 'way': 589, 'moreover': 590, 'system': 591, 'stood': 592, 'through': 593, 'age': 594, 'respects': 595, 'model': 596, 'those': 597, 'seek': 598, 'endure': 599, 'fortuitous': 600, 'storm': 601, 'accident': 602, 'contains': 603, 'thing': 604, 'rich': 605, 'abundance': 606, 'Cymbeline': 607, 'Henry': 608, 'IV': 609, 'Part': 610, '2': 611, 'Coriolanus': 612, 'assemblage': 613, 'supplement': 614, 'seal': 615, 'shall': 616, 'take': 617, 'manifestation': 618, 'In': 619, 'exercise': 620, 'committed': 621, 'sacred': 622, 'trust': 623, 'he': 624, 'consecrates': 625, 'himself': 626, 'impressive': 627, 'ceremony': 628, 'adds': 629, 'sense': 630, 'contemplate': 631, 'duty': 632, 'owe': 633, 'land': 634, 'Nothing': 635, 'relieve': 636, 'me': 637, 'lest': 638, 'act': 639, 'mine': 640, 'interests': 641, 'suffer': 642, 'nothing': 643, 'needed': 644, 'resolution': 645, 'engage': 646, 'faculty': 647, 'promotion': 648, 'Amid': 649, 'din': 650, 'strife': 651, 's': 652, 'choice': 653, 'attendant': 654, 'circumstances': 655, 'demonstrated': 656, 'anew': 657, 'safety': 658, 'each': 659, 'succeeding': 660, 'year': 661, 'clearly': 662, 'appears': 663, 'democratic': 664, 'principle': 665, 'needs': 666, 'apology': 667, 'fearless': 668, 'faithful': 669, 'application': 670, 'found': 671, 'surest': 672, 'guaranty': 673, 'Romeo': 674, 'Juliet': 675, 'Among': 676, 'vicissitudes': 677, 'incident': 678, 'event': 679, 'filled': 680, 'greater': 681, 'anxieties': 682, 'notification': 683, 'transmitted': 684, 'received': 685, '14th': 686, 'present': 687, 'month': 688, 'On': 689, 'summoned': 690, 'Country': 691, 'voice': 692, 'never': 693, 'hear': 694, 'veneration': 695, 'love': 696, 'retreat': 697, 'chosen': 698, 'fondest': 699, 'predilection': 700, 'flattering': 701, 'hopes': 702, 'immutable': 703, 'decision': 704, 'asylum': 705, 'declining': 706, 'rendered': 707, 'necessary': 708, 'dear': 709, 'addition': 710, 'inclination': 711, 'frequent': 712, 'interruptions': 713, 'health': 714, 'gradual': 715, 'waste': 716, 'magnitude': 717, 'difficulty': 718, 'sufficient': 719, 'awaken': 720, 'wisest': 721, 'experienced': 722, 'her': 723, 'distrustful': 724, 'scrutiny': 725, 'his': 726, 'qualifications': 727, 'overwhelm': 728, 'despondence': 729, 'inheriting': 730, 'inferior': 731, 'endowments': 732, 'nature': 733, 'unpracticed': 734, 'civil': 735, 'administration': 736, 'ought': 737, 'peculiarly': 738, 'conscious': 739, 'deficiencies': 740, 'conflict': 741, 'emotions': 742, 'dare': 743, 'aver': 744, 'study': 745, 'collect': 746, 'appreciation': 747, 'circumstance': 748, 'might': 749, 'affected': 750, 'All': 751, 'executing': 752, 'task': 753, 'swayed': 754, 'grateful': 755, 'remembrance': 756, 'former': 757, 'instances': 758, 'or': 759, 'affectionate': 760, 'sensibility': 761, 'transcendent': 762, 'proof': 763, 'confidence': 764, 'thence': 765, 'consulted': 766, 'incapacity': 767, 'disinclination': 768, 'weighty': 769, 'untried': 770, 'cares': 771, 'error': 772, 'palliated': 773, 'motives': 774, 'mislead': 775, 'consequences': 776, 'judged': 777, 'some': 778, 'share': 779, 'partiality': 780, 'originated': 781, 'impressions': 782, 'obedience': 783, 'public': 784, 'summons': 785, 'repaired': 786, 'station': 787, 'improper': 788, 'omit': 789, 'official': 790, 'fervent': 791, 'supplications': 792, 'Almighty': 793, 'Being': 794, 'rules': 795, 'over': 796, 'universe': 797, 'presides': 798, 'councils': 799, 'providential': 800, 'aids': 801, 'supply': 802, 'human': 803, 'defect': 804, 'His': 805, 'benediction': 806, 'consecrate': 807, 'liberties': 808, 'Government': 809, 'instituted': 810, 'essential': 811, 'enable': 812, 'instrument': 813, 'employed': 814, 'execute': 815, 'functions': 816, 'allotted': 817, 'charge': 818, 'tendering': 819, 'homage': 820, 'Great': 821, 'Author': 822, 'private': 823, 'assure': 824, 'myself': 825, 'expresses': 826, 'sentiments': 827, 'either': 828, 'bound': 829, 'acknowledge': 830, 'adore': 831, 'Invisible': 832, 'Hand': 833, 'conducts': 834, 'Every': 835, 'step': 836, 'advanced': 837, 'independent': 838, 'seems': 839, 'distinguished': 840, 'token': 841, 'agency': 842, 'revolution': 843, 'accomplished': 844, 'united': 845, 'tranquil': 846, 'deliberations': 847, 'voluntary': 848, 'consent': 849, 'distinct': 850, 'communities': 851, 'resulted': 852, 'compared': 853, 'governments': 854, 'established': 855, 'return': 856, 'pious': 857, 'humble': 858, 'anticipation': 859, 'blessings': 860, 'seem': 861, 'presage': 862, 'These': 863, 'reflections': 864, 'arising': 865, 'crisis': 866, 'strongly': 867, 'mind': 868, 'suppressed': 869, 'You': 870, 'join': 871, 'thinking': 872, 'none': 873, 'influence': 874, 'proceedings': 875, 'auspiciously': 876, 'commence': 877, 'Macbeth': 878, 'VI': 879, 'solicitation': 880, 'part': 881, 'suffrages': 882, 'honorable': 883, 'responsible': 884, 'office': 885, 'deeply': 886, 'impressed': 887, 'reposed': 888, 'Honored': 889, 'consideration': 890, 'earlier': 891, 'period': 892, 'predecessors': 893, 'disguise': 894, 'diffidence': 895, 'enter': 896, 'discharge': 897, 'aged': 898, 'even': 899, 'infancy': 900, 'distrusted': 901, 'ability': 902, 'exalted': 903, 'what': 904, 'apprehensions': 905, 'younger': 906, 'endowed': 907, 'domain': 908, 'extends': 909, 'ocean': 910, 'greatly': 911, 'increased': 912, 'numbers': 913, 'opinion': 914, 'prevails': 915, 'regard': 916, 'policy': 917, 'characterize': 918, 'Well': 919, 'boldest': 920, 'tremble': 921, 'incurring': 922, 'depend': 923, 'prosperity': 924, 'whole': 925, 'assuming': 926, 'fervently': 927, 'invoke': 928, 'aid': 929, 'Ruler': 930, 'Universe': 931, 'destinies': 932, 'guard': 933, 'Heaven': 934, 'favored': 935, 'mischiefs': 936, 'guidance': 937, 'arise': 938, 'unwise': 939, 'With': 940, 'firm': 941, 'wisdom': 942, 'Omnipotence': 943, 'sustain': 944, 'direct': 945, 'path': 946, 'appointed': 947, 'pursue': 948, 'assembled': 949, 'multitude': 950, 'obligation': 951, 'preserve': 952, 'protect': 953, 'defend': 954, 'Constitution': 955, 'current': 956, 'finding': 957, 'satisfying': 958, 'encouraging': 959, 'leading': 960, 'general': 961, 'readjustment': 962, 'results': 963, 'Many': 964, 'burdens': 965, 'bear': 966, 'heavily': 967, 'secondary': 968, 'indirect': 969, 'effects': 970, 'expect': 971, 'experience': 972, 'beginning': 973, 'definitely': 974, 'course': 975, 'pursued': 976, 'remedies': 977, 'applied': 978, 'actions': 979, 'taken': 980, 'deliverance': 981, 'manifesting': 982, 'determined': 983, 'faithfully': 984, 'conscientiously': 985, 'adopt': 986, 'methods': 987, 'relief': 988, 'Already': 989, 'sufficiently': 990, 'rearranged': 991, 'domestic': 992, 'returned': 993, 'business': 994, 'revived': 995, 'appear': 996, 'entering': 997, 'era': 998, 'gradually': 999, 'reaching': 1000, 'Realizing': 1001, 'live': 1002, 'unto': 1003, 'alone': 1004, 'contributed': 1005, 'resources': 1006, 'settlement': 1007, 'disputes': 1008, 'European': 1009, 'Because': 1010, 'America': 1011, 'done': 1012, 'firmer': 1013, 'courage': 1014, 'higher': 1015, 'inspires': 1016, 'heart': 1017, 'humanity': 1018, 'occurred': 1019, 'chance': 1020, 'They': 1021, 'secured': 1022, 'constant': 1023, 'enlightened': 1024, 'marked': 1025, 'sacrifices': 1026, 'extending': 1027, 'continue': 1028, 'brilliant': 1029, 'successes': 1030, 'unless': 1031, 'learn': 1032, 'keep': 1033, 'experiences': 1034, 'home': 1035, 'abroad': 1036, 'continually': 1037, 'science': 1038, 'erect': 1039, 'structures': 1040, 'knowledge': 1041, 'realize': 1042, 'essentials': 1043, 'relationship': 1044, 'do': 1045, 'frequently': 1046, 'bearings': 1047, 'stars': 1048, 'firmament': 1049, 'hold': 1050, 'true': 1051, 'examine': 1052, 'carefully': 1053, 'determine': 1054, 'accurately': 1055, 'practice': 1056, 'imposes': 1057, 'cheerfully': 1058, 'fulfill': 1059, 'accompany': 1060, 'avowal': 1061, 'guide': 1062, 'performing': 1063, 'expression': 1064, 'feelings': 1065, 'imitating': 1066, 'example': 1067, 'tread': 1068, 'footsteps': 1069, 'illustrious': 1070, 'superiors': 1071, 'executive': 1072, 'calendar': 1073, 'recognize': 1074, 'earliest': 1075, 'firmest': 1076, 'pillars': 1077, 'whom': 1078, 'declared': 1079, 'him': 1080, 'above': 1081, 'establish': 1082, 'field': 1083, 'expanded': 1084, 'intellect': 1085, 'patriotism': 1086, 'constructed': 1087, 'improved': 1088, 'perfected': 1089, 'inestimable': 1090, 'institutions': 1091, 'position': 1092, 'occupy': 1093, 'overwhelmed': 1094, 'highest': 1095, 'marks': 1096, 'consciousness': 1097, 'inability': 1098, 'adequately': 1099, 'difficult': 1100, 'how': 1101, 'considerations': 1102, 'affect': 1103, 'rely': 1104, 'claims': 1105, 'favor': 1106, 'forbearance': 1107, 'Unlike': 1108, 'preceded': 1109, 'Revolution': 1110, 'gave': 1111, 'achieved': 1112, 'birth': 1113, 'whilst': 1114, 'reverence': 1115, 'memorable': 1116, 'feel': 1117, 'belong': 1118, 'later': 1119, 'weigh': 1120, 'same': 1121, 'kind': 1122, 'partial': 1123, 'So': 1124, 'sensibly': 1125, 'press': 1126, 'associated': 1127, 'various': 1128, 'coordinate': 1129, 'branches': 1130, 'repose': 1131, 'unwavering': 1132, 'intelligence': 1133, 'kindness': 1134, 'deserted': 1135, 'servant': 1136, 'honestly': 1137, 'laboring': 1138, 'permit': 1139, 'humbly': 1140, 'sustaining': 1141, 'support': 1142, 'watchful': 1143, 'beneficent': 1144, 'Providence': 1145, 'consolation': 1146, 'derived': 1147, 'sources': 1148, 'ungrateful': 1149, 'add': 1150, 'spring': 1151, 'fortunate': 1152, 'condition': 1153, 'Though': 1154, 'altogether': 1155, 'exempt': 1156, 'embarrassments': 1157, 'disturb': 1158, 'tranquillity': 1159, 'threaten': 1160, 'attributes': 1161, 'happy': 1162, 'flourishing': 1163, 'parallel': 1164, 'Abroad': 1165, 'enjoy': 1166, 'respect': 1167, 'scarcely': 1168, 'exception': 1169, 'while': 1170, 'quietly': 1171, 'efficiently': 1172, 'performs': 1173, 'sole': 1174, 'legitimate': 1175, 'end': 1176, 'doing': 1177, 'greatest': 1178, 'number': 1179, 'aggregate': 1180, 'surely': 1181, 'elsewhere': 1182, 'V': 1183, 'inauguration': 1184, '1789': 1185, 'renewed': 1186, 'dedication': 1187, 'Washington': 1188, 'create': 1189, 'weld': 1190, 'together': 1191, 'Lincoln': 1192, 'disruption': 1193, 'within': 1194, 'Timon': 1195, 'Athens': 1196, 'cnumpy': 1197, 'core': 1198, 'multiarray': 1199, '_reconstruct': 1200, 'q': 1201, 'Clinton': 1202, 'guests': 1203, 'peaceful': 1204, 'transfer': 1205, 'rare': 1206, 'history': 1207, 'common': 1208, 'simple': 1209, 'affirm': 1210, 'traditions': 1211, 'make': 1212, 'beginnings': 1213, 'As': 1214, 'begin': 1215, 'thank': 1216, 'And': 1217, 'Gore': 1218, 'contest': 1219, 'conducted': 1220, 'ended': 1221, 'grace': 1222, 'Johnson': 1223, 'Eisenhower': 1224, 'Nixon': 1225, 'Truman': 1226, 'reverend': 1227, 'clergy': 1228, 'observe': 1229, 'victory': 1230, 'celebration': 1231, 'freedom': 1232, 'symbolizing': 1233, 'signifying': 1234, 'renewal': 1235, 'For': 1236, 'sworn': 1237, 'forebears': 1238, 'l': 1239, 'prescribed': 1240, 'nearly': 1241, 'quarters': 1242, 'different': 1243, 'man': 1244, 'holds': 1245, 'mortal': 1246, 'abolish': 1247, 'poverty': 1248, 'revolutionary': 1249, 'beliefs': 1250, 'issue': 1251, 'around': 1252, 'globe': 1253, 'belief': 1254, 'state': 1255, 'forget': 1256, 'Let': 1257, 'word': 1258, 'go': 1259, 'forth': 1260, 'friend': 1261, 'foe': 1262, 'torch': 1263, 'passed': 1264, 'generation': 1265, 'Americans': 1266, 'born': 1267, 'tempered': 1268, 'disciplined': 1269, 'hard': 1270, 'bitter': 1271, 'proud': 1272, 'ancient': 1273, 'heritage': 1274, 'unwilling': 1275, 'slow': 1276, 'undoing': 1277, 'always': 1278, 'Anyone': 1279, 'weight': 1280, 'conception': 1281, 'lacking': 1282, 'proper': 1283, 'inaugural': 1284, 'address': 1285, 'give': 1286, 'summary': 1287, 'outline': 1288, 'main': 1289, 'policies': 1290, 'far': 1291, 'anticipated': 1292, 'honor': 1293, 'advisers': 1294, 'predecessor': 1295, 'reforms': 1296, 'initiated': 1297, 'untrue': 1298, 'promises': 1299, 'declarations': 1300, 'platform': 1301, 'elected': 1302, 'maintenance': 1303, 'enforcement': 1304, 'feature': 1305, 'directed': 1306, 'suppression': 1307, 'lawlessness': 1308, 'abuses': 1309, 'combinations': 1310, 'capital': 1311, 'invested': 1312, 'railroads': 1313, 'enterprises': 1314, 'carrying': 1315, 'interstate': 1316, 'commerce': 1317, 'steps': 1318, 'took': 1319, 'legislation': 1320, 'recommendation': 1321, 'caused': 1322, 'halt': 1323, 'vicious': 1324, 'created': 1325, 'popular': 1326, 'alarm': 1327, 'existing': 1328, 'render': 1329, 'lasting': 1330, 'however': 1331, 'secure': 1332, 'pursuing': 1333, 'progressive': 1334, 'further': 1335, 'legislative': 1336, 'action': 1337, 'Relief': 1338, 'restrictions': 1339, 'antitrust': 1340, 'urged': 1341, 'looking': 1342, 'federal': 1343, 'supervision': 1344, 'restriction': 1345, 'prevent': 1346, 'excessive': 1347, 'issues': 1348, 'bonds': 1349, 'stock': 1350, 'companies': 1351, 'owning': 1352, 'operating': 1353, 'understand': 1354, 'agree': 1355, 'form': 1356, 'brief': 1357, 'allies': 1358, 'passing': 1359, 'test': 1360, 'resolve': 1361, 'democracy': 1362, 'successfully': 1363, 'honorably': 1364, 'perform': 1365, 'historic': 1366, 'importance': 1367, 'children': 1368, 'destitute': 1369, 'calling': 1370, 'conduct': 1371, 'derive': 1372, 'gratification': 1373, 'having': 1374, 'merit': 1375, 'MY': 1376, 'estimate': 1377, 'extent': 1378, 'intimately': 1379, 'connected': 1380, 'Conscious': 1381, 'deficiency': 1382, 'cannot': 1383, 'result': 1384, 'From': 1385, 'shrink': 1386, 'calculating': 1387, 'promote': 1388, 'duly': 1389, 'appreciated': 1390, 'viewed': 1391, 'candor': 1392, 'indulgence': 1393, 'stations': 1394, 'commencing': 1395, 'chief': 1396, 'gone': 1397, 'explain': 1398, 'govern': 1399, 'respective': 1400, 'Administrations': 1401, 'following': 1402, 'venerated': 1403, 'attention': 1404, 'naturally': 1405, 'drawn': 1406, 'causes': 1407, 'principal': 1408, 'produce': 1409, 'shed': 1410, 'light': 1411, 'commencement': 1412, 'almost': 1413, 'forty': 1414, 'elapsed': 1415, 'establishment': 1416, 'twenty': 1417, 'eight': 1418, 'Through': 1419, 'term': 1420, 'emphatically': 1421, 'effect': 1422, 'whatever': 1423, 'object': 1424, 'turn': 1425, 'whether': 1426, 'relates': 1427, 'foreign': 1428, 'concerns': 1429, 'find': 1430, 'abundant': 1431, 'felicitate': 1432, 'excellence': 1433, 'During': 1434, 'fraught': 1435, 'difficulties': 1436, 'events': 1437, 'flourished': 1438, 'beyond': 1439, 'Their': 1440, 'individually': 1441, 'prosperous': 1442, 'accept': 1443, 'humility': 1444, 'American': 1445, 'conferred': 1446, 'need': 1447, 'help': 1448, 'prayers': 1449, 'ask': 1450, 'encouragement': 1451, 'tasks': 1452, 'accomplish': 1453, 'work': 1454, 'Each': 1455, 'special': 1456, 'challenges': 1457, 'Those': 1458, 'confront': 1459, 'momentous': 1460, 'Today': 1461, 'eventful': 1462, 'perhaps': 1463, 'thoughts': 1464, 'deem': 1465, 'appropriate': 1466, 'privilege': 1467, 'uttering': 1468, 'prayer': 1469, 'bow': 1470, 'heads': 1471, 'associates': 1472, 'branch': 1473, 'beseeching': 1474, 'Thou': 1475, 'complete': 1476, 'throng': 1477, 'everywhere': 1478, 'Give': 1479, 'pray': 1480, 'discern': 1481, 'allow': 1482, 'governed': 1483, 'thereby': 1484, 'laws': 1485, 'Especially': 1486, 'concern': 1487, 'regardless': 1488, 'Venus': 1489, 'Adonis': 1490, 'Called': 1491, 'retirement': 1492, 'supposed': 1493, 'residue': 1494, 'fill': 1495, 'oaths': 1496, 'prescribes': 1497, 'qualification': 1498, 'performance': 1499, 'custom': 1500, 'coeval': 1501, 'expectations': 1502, 'proceed': 1503, 'remark': 1504, 'Roman': 1505, 'consul': 1506, 'early': 1507, 'contrast': 1508, 'observable': 1509, 'candidates': 1510, 'after': 1511, 'obtaining': 1512, 'seldom': 1513, 'latter': 1514, 'case': 1515, 'pledges': 1516, 'However': 1517, 'lapse': 1518, 'upward': 1519, 'thousand': 1520, 'virtuous': 1521, 'indignant': 1522, 'strict': 1523, 'examination': 1524, 'annals': 1525, 'modern': 1526, 'elective': 1527, 'develop': 1528, 'similar': 1529, 'violated': 1530, 'Although': 1531, 'fiat': 1532, 'proclaiming': 1533, 'Magistrate': 1534, 'glorious': 1535, 'remaining': 1536, 'motive': 1537, 'exist': 1538, 'delusion': 1539, 'acted': 1540, 'relation': 1541, 'assembly': 1542, 'prepared': 1543, 'condemn': 1544, 'deliver': 1545, 'approving': 1546, 'doubt': 1547, 'sincerity': 1548, 'uttered': 1549, 'months': 1550, 'confirm': 1551, 'dispel': 1552, 'fears': 1553, 'measures': 1554, 'adopted': 1555, 'Administration': 1556, 'exchanged': 1557, 'exonerated': 1558, 'classed': 1559, 'mass': 1560, 'promised': 1561, 'deceive': 1562, 'flattered': 1563, 'intention': 1564, 'betray': 1565, 'magnanimous': 1566, 'confiding': 1567, 'dangerous': 1568, 'temptations': 1569, 'exposed': 1570, 'pleasure': 1571, 'commit': 1572, 'hitherto': 1573, 'protected': 1574, 'favorable': 1575, 'trusts': 1576, 'heretofore': 1577, 'confided': 1578, 'King': 1579, 'constitutional': 1580, 'legal': 1581, 'requirement': 1582, 'manifest': 1583, 'appropriateness': 1584, 'induction': 1585, 'officer': 1586, 'ceremonial': 1587, 'becomes': 1588, 'mutual': 1589, 'covenant': 1590, 'covenants': 1591, 'serve': 1592, 'execution': 1593, 'unfailing': 1594, 'defense': 1595, 'security': 1596, 'evade': 1597, 'wrest': 1598, 'ends': 1599, 'cruelty': 1600, 'selfishness': 1601, 'promise': 1602, 'spoken': 1603, 'yours': 1604, 'unspoken': 1605, 'State': 1606, 'representatives': 1607, 'Surely': 1608, 'misinterpret': 1609, 'yield': 1610, 'citizen': 1611, 'equal': 1612, 'Entering': 1613, 'thus': 1614, 'solemnly': 1615, 'He': 1616, 'fidelity': 1617, 'fraternity': 1618, 'derives': 1619, 'peculiar': 1620, 'interest': 1621, 'Presidential': 1622, 'begins': 1623, 'sixth': 1624, 'New': 1625, 'York': 1626, 'where': 1627, 'Congress': 1628, 'sitting': 1629, '30th': 1630, 'April': 1631, 'deferred': 1632, 'delays': 1633, 'attending': 1634, 'organization': 1635, 'canvass': 1636, 'electoral': 1637, 'vote': 1638, 'already': 1639, 'worthily': 1640, 'observed': 1641, 'centennials': 1642, 'Declaration': 1643, 'Independence': 1644, 'shortly': 1645, 'celebrate': 1646, 'institution': 1647, 'second': 1648, 'department': 1649, 'scheme': 1650, 'When': 1651, 'judicial': 1652, 'Supreme': 1653, 'Court': 1654, 'suitably': 1655, 'entered': 1656, 'fathers': 1657, 'firmness': 1658, 'manner': 1659, 'restore': 1660, 'harmony': 1661, 'several': 1662, 'Convinced': 1663, 'election': 1664, 'inherent': 1665, 'animates': 1666, 'hearts': 1667, 'powerful': 1668, 'calculated': 1669, 'perpetuate': 1670, 'richest': 1671, 'bestowed': 1672, 'Having': 1673, 'candidate': 1674, 'reelection': 1675, 'desire': 1676, 'ably': 1677, 'faithfull': 1678, 'memory': 1679, 'recently': 1680, 'passions': 1681, 'excited': 1682, 'questions': 1683, 'vital': 1684, 'proclaimed': 1685, 'tempest': 1686, 'once': 1687, 'subsided': 1688, 'calm': 1689, 'humbled': 1690, 'mindful': 1691, 'borne': 1692, 'ancestors': 1693, 'cooperation': 1694, 'transition': 1695, 'Forty': 1696, 'presidential': 1697, 'rising': 1698, 'tides': 1699, 'waters': 1700, 'Yet': 1701, 'often': 1702, 'amidst': 1703, 'gathering': 1704, 'clouds': 1705, 'raging': 1706, 'storms': 1707, 'At': 1708, 'moments': 1709, 'carried': 1710, 'simply': 1711, 'skill': 1712, 'vision': 1713, 'People': 1714, 'remained': 1715, 'ideals': 1716, 'forbearers': 1717, 'founding': 1718, 'documents': 1719, 'repeat': 1720, 'honored': 1721, 'compliance': 1722, 'usage': 1723, 'announce': 1724, 'subjects': 1725, 'chiefly': 1726, 'guided': 1727, 'undertake': 1728, 'down': 1729, 'irrevocably': 1730, 'speak': 1731, 'animate': 1732, 'suggest': 1733, 'attained': 1734, 'accordance': 1735, 'outset': 1736, 'discussions': 1737, 'recent': 1738, 'seemed': 1739, 'fitting': 1740, 'fully': 1741, 'known': 1742, 'appeared': 1743, 'demand': 1744, 'Following': 1745, 'adopting': 1746, 'language': 1747, 'misrepresentation': 1748, 'trusting': 1749, 'candidly': 1750, 'assured': 1751, 'accepting': 1752, 'nomination': 1753, 'Presidency': 1754, 'standard': 1755, 'charged': 1756, 'grave': 1757, 'practical': 1758, 'Executive': 1759, 'permanent': 1760, 'pacification': 1761, 'protection': 1762, 'enjoyment': 1763, 'thoughtful': 1764, 'patriotic': 1765, 'itself': 1766, 'briefly': 1767, 'enters': 1768, 'consider': 1769, 'discuss': 1770, 'matters': 1771, 'excitement': 1772, 'Apprehension': 1773, 'Southern': 1774, 'accession': 1775, 'Republican': 1776, 'property': 1777, 'personal': 1778, 'endangered': 1779, 'reasonable': 1780, 'apprehension': 1781, 'Indeed': 1782, 'ample': 1783, 'evidence': 1784, 'contrary': 1785, 'existed': 1786, 'open': 1787, 'inspection': 1788, 'published': 1789, 'speeches': 1790, 'addresses': 1791, 'quote': 1792, 'declare': 1793, 'Cook': 1794, 'Mrs': 1795, 'met': 1796, 'bleak': 1797, 'depressed': 1798, 'prospect': 1799, 'seemingly': 1800, 'endless': 1801, 'destructive': 1802, 'threshold': 1803, 'Merchant': 1804, 'Venice': 1805, 'want': 1806, 'heal': 1807, 'outward': 1808, 'physical': 1809, 'attest': 1810, 'inner': 1811, 'spiritual': 1812, 'school': 1813, 'teacher': 1814, 'Miss': 1815, 'Julia': 1816, 'Coleman': 1817, 'used': 1818, 'say': 1819, 'adjust': 1820, 'changing': 1821, 'times': 1822, 'unchanging': 1823, 'Here': 1824, 'Bible': 1825, 'mother': 1826, 'opened': 1827, 'timeless': 1828, 'admonition': 1829, 'prophet': 1830, 'Micah': 1831, '3': 1832, 'mystery': 1833, 'held': 1834, 'depth': 1835, 'winter': 1836, 'faces': 1837, 'reborn': 1838, 'oldest': 1839, 'brings': 1840, 'reinvent': 1841, 'founders': 1842, 'boldly': 1843, 'knew': 1844, 'Not': 1845, 'sake': 1846, 'pursuit': 1847, 'music': 1848, 'mission': 1849, 'define': 1850, 'behalf': 1851, 'salute': 1852, 'millions': 1853, 'steadfastness': 1854, 'sacrifice': 1855, 'triumphed': 1856, 'depression': 1857, 'fascism': 1858, 'communism': 1859, 'raised': 1860, 'shadows': 1861, 'Cold': 1862, 'War': 1863, 'assumes': 1864, 'warmed': 1865, 'sunshine': 1866, 'threatened': 1867, 'hatreds': 1868, 'plagues': 1869, 'Raised': 1870, 'unrivalled': 1871, 'inherit': 1872, 'economy': 1873, 'strongest': 1874, 'weakened': 1875, 'failures': 1876, 'stagnant': 1877, 'wages': 1878, 'increasing': 1879, 'inequality': 1880, 'divisions': 1881, 'Your': 1882, 'conformity': 1883, 'therein': 1884, 'mental': 1885, 'reservation': 1886, 'required': 1887, 'unsought': 1888, 'untrammeled': 1889, 'satisfaction': 1890, 'agitating': 1891, 'express': 1892, 'views': 1893, 'urge': 1894, 'according': 1895, 'judgment': 1896, 'advisable': 1897, 'interposing': 1898, 'veto': 1899, 'defeat': 1900, 'oppose': 1901, 'executed': 1902, 'approval': 1903, 'Hatfield': 1904, 'Mondale': 1905, 'Baker': 1906, 'Moomaw': 1907, 'commonplace': 1908, 'occurrence': 1909, 'orderly': 1910, 'routinely': 1911, 'takes': 1912, 'centuries': 1913, 'stop': 1914, 'unique': 1915, 'really': 1916, '4': 1917, 'normal': 1918, 'miracle': 1919, 'know': 1920, 'carry': 1921, 'tradition': 1922, 'By': 1923, 'gracious': 1924, 'process': 1925, 'watching': 1926, 'maintaining': 1927, 'guarantees': 1928, 'continuity': 1929, 'bulwark': 1930, 'goes': 1931, 'forward': 1932, 'confronted': 1933, 'economic': 1934, 'affliction': 1935, 'proportions': 1936, 'longest': 1937, 'worst': 1938, 'sustained': 1939, 'inflations': 1940, 'distorts': 1941, 'decisions': 1942, 'penalizes': 1943, 'thrift': 1944, 'crushes': 1945, 'young': 1946, 'income': 1947, 'elderly': 1948, 'threatens': 1949, 'shatter': 1950, 'inaugurate': 1951, 'minded': 1952, 'dedicated': 1953, 'fulfillment': 1954, 'speed': 1955, 'drive': 1956, 'temple': 1957, 'profaned': 1958, 'tireless': 1959, 'unafraid': 1960, 'stagnation': 1961, 'despair': 1962, 'Instinctively': 1963, 'recognized': 1964, 'deeper': 1965, 'Repeated': 1966, 'attempts': 1967, 'solution': 1968, 'left': 1969, 'baffled': 1970, 'bewildered': 1971, 'unable': 1972, 'controls': 1973, 'services': 1974, 'useful': 1975, 'instead': 1976, 'ruthless': 1977, 'master': 1978, 'blind': 1979, 'forces': 1980, 'blindly': 1981, 'selfish': 1982, 'sensed': 1983, 'truth': 1984, 'innate': 1985, 'capacity': 1986, 'disasters': 1987, 'considered': 1988, 'inevitable': 1989, 'unsolvable': 1990, 'admit': 1991, 'epidemics': 1992, 'fatalistic': 1993, 'disease': 1994, 'refused': 1995, 'leave': 1996, 'solved': 1997, 'winds': 1998, 'hurricanes': 1999, 'disaster': 2000, 'consequence': 2001, 'Perhaps': 2002, 'fruitful': 2003, 'significant': 2004, 'sought': 2005, 'thoughtfully': 2006, 'house': 2007, 'correct': 2008, 'grosser': 2009, 'errors': 2010, 'liberate': 2011, 'quicken': 2012, 'processes': 2013, 'lift': 2014, 'politics': 2015, 'broader': 2016, 'record': 2017, 'singular': 2018, 'variety': 2019, 'distinction': 2020, 'attempt': 2021, 'review': 2022, 'speaks': 2023, 'retrospect': 2024, 'concerning': 2025, 'immediate': 2026, 'centered': 2027, 'unusual': 2028, 'concentration': 2029, 'addressed': 2030, 'lying': 2031, 'outside': 2032, 'control': 2033, 'despite': 2034, 'irresistibly': 2035, 'Comedy': 2036, 'Errors': 2037, 'Measure': 2038, 'Elected': 2039, 'holding': 2040, 'rank': 2041, 'inspired': 2042, 'profound': 2043, 'reflect': 2044, 'acceptance': 2045, 'arduous': 2046, 'involves': 2047, 'weightiest': 2048, 'obligations': 2049, 'though': 2050, 'satisfy': 2051, 'loftiest': 2052, 'ambition': 2053, 'surrounded': 2054, 'fearful': 2055, 'Happily': 2056, 'prominent': 2057, 'examples': 2058, 'attainments': 2059, 'matured': 2060, 'endeavor': 2061, 'call': 2062, 'assistance': 2063, 'Departments': 2064, 'individuals': 2065, 'talents': 2066, 'integrity': 2067, 'purity': 2068, 'furnish': 2069, 'guaranties': 2070, 'honest': 2071, 'diligently': 2072, 'impartially': 2073, 'manifold': 2074, 'devolved': 2075, 'swear': 2076, 'interpretation': 2077, 'tribunals': 2078, 'Presidents': 2079, 'formation': 2080, 'patriots': 2081, 'defer': 2082, 'especially': 2083, 'titles': 2084, 'Father': 2085, 'Winter': 2086, 'Tale': 2087, 'Twelfth': 2088, 'Night': 2089, 'Troilus': 2090, 'Cressida': 2091, 'situation': 2092, 'impels': 2093, 'preeminently': 2094, 'Nor': 2095, 'facing': 2096, 'endured': 2097, 'revive': 2098, 'prosper': 2099, 'assert': 2100, 'nameless': 2101, 'unreasoning': 2102, 'unjustified': 2103, 'terror': 2104, 'paralyzes': 2105, 'convert': 2106, 'advance': 2107, 'dark': 2108, 'hour': 2109, 'leadership': 2110, 'frankness': 2111, 'understanding': 2112, 'convinced': 2113, 'critical': 2114, 'Values': 2115, 'shrunken': 2116, 'fantastic': 2117, 'levels': 2118, 'taxes': 2119, 'risen': 2120, 'fallen': 2121, 'kinds': 2122, 'serious': 2123, 'curtailment': 2124, 'exchange': 2125, 'frozen': 2126, 'currents': 2127, 'trade': 2128, 'withered': 2129, 'leaves': 2130, 'lie': 2131, 'side': 2132, 'farmers': 2133, 'markets': 2134, 'savings': 2135, 'thousands': 2136, 'families': 2137, 'More': 2138, 'host': 2139, 'unemployed': 2140, 'grim': 2141, 'problem': 2142, 'equally': 2143, 'toil': 2144, 'Only': 2145, 'foolish': 2146, 'optimist': 2147, 'deny': 2148, 'realities': 2149, 'Lear': 2150, 'Unwilling': 2151, 'depart': 2152, 'revered': 2153, 'avail': 2154, 'presented': 2155, 'impression': 2156, 'pledge': 2157, 'sanctions': 2158, 'mark': 2159, 'proceeding': 2160, 'deliberate': 2161, 'suffrage': 2162, 'commanded': 2163, 'devotion': 2164, 'awful': 2165, 'assumed': 2166, 'solemnity': 2167, 'inexpressibly': 2168, 'enhanced': 2169, 'indeed': 2170, 'pressure': 2171, 'severely': 2172, 'resulting': 2173, 'benign': 2174, 'republican': 2175, 'engaged': 2176, 'bloody': 2177, 'wasteful': 2178, 'wars': 2179, 'fruits': 2180, 'enjoyed': 2181, 'unrivaled': 2182, 'faculties': 2183, 'Proofs': 2184, 'improvements': 2185, 'agriculture': 2186, 'successful': 2187, 'progress': 2188, 'manufacturers': 2189, 'arts': 2190, 'increase': 2191, 'revenue': 2192, 'reducing': 2193, 'debt': 2194, 'valuable': 2195, 'works': 2196, 'establishments': 2197, 'multiplying': 2198, 'precious': 2199, 'reflection': 2200, 'scene': 2201, 'distressing': 2202, 'chargeable': 2203, 'unwarrantable': 2204, 'involuntary': 2205, 'Indulging': 2206, 'trespass': 2207, 'glory': 2208, 'cultivate': 2209, 'observing': 2210, 'entitle': 2211, 'fulfilling': 2212, 'neutral': 2213, 'scrupulous': 2214, 'impartiality': 2215, 'assertions': 2216, 'questioned': 2217, 'posterity': 2218, 'least': 2219, 'Ado': 2220, 'About': 2221, 'Cheney': 2222, 'Carter': 2223, 'durable': 2224, 'recall': 2225, 'commitments': 2226, 'unite': 2227, 'consequential': 2228, 'defined': 2229, 'defended': 2230, 'standing': 2231, 'watch': 2232, 'distant': 2233, 'borders': 2234, 'After': 2235, 'shipwreck': 2236, 'came': 2237, 'relative': 2238, 'quiet': 2239, 'sabbaticalXand': 2240, 'fire': 2241, 'Gentlemen': 2242, 'Verona': 2243, 'Love': 2244, 'Labor': 2245, 'Lost': 2246, 'Pericles': 2247, 'Prince': 2248, 'Tyre': 2249, 'maintain': 2250, 'direction': 2251, 'aided': 2252, 'recovered': 2253, 'internal': 2254, 'restored': 2255, 'Federal': 2256, 'Titus': 2257, 'Andronicus': 2258, 'Countrymen': 2259, 'surveys': 2260, 'noting': 2261, 'destruction': 2262, 'rejoicing': 2263, 'ruggedness': 2264, 'withstood': 2265, 'breathes': 2266, 'clarified': 2267, 'atmosphere': 2268, 'strange': 2269, 'mingling': 2270, 'regret': 2271, 'passion': 2272, 'spend': 2273, 'fury': 2274, 'unshaken': 2275, 'Liberty': 2276, 'comes': 2277, 'assurance': 2278, 'representative': 2279, 'Standing': 2280, 'until': 2281, 'senses': 2282, 'utter': 2283, 'divine': 2284, 'inspiration': 2285, 'intent': 2286, 'making': 2287, 'Ours': 2288, 'organic': 2289, 'ambiguity': 2290, 'saw': 2291, 'effaced': 2292, 'baptism': 2293, 'blood': 2294, 'union': 2295, 'maintained': 2296, 'concord': 2297, 'inspiring': 2298, 'rivet': 2299, 'hopeful': 2300, 'gaze': 2301, 'truths': 2302, 'religious': 2303, 'verified': 2304, 'glorified': 2305, 'Old': 2306, 'World': 2307, 'scoffed': 2308, 'inheritance': 2309, 'strengthened': 2310, 'immortal': 2311, 'Antony': 2312, 'Cleopatra': 2313, 'customary': 2314, 'accountability': 2315, 'enjoins': 2316, 'convinces': 2317, 'thanks': 2318, 'adequate': 2319, 'admonishes': 2320, 'zealous': 2321, 'abilities': 2322, 'devolve': 2323, 'stated': 2324, 'superintend': 2325, 'confederate': 2326, 'manage': 2327, 'command': 2328, 'communications': 2329, 'Legislature': 2330, 'generally': 2331, 'circle': 2332, 'steadily': 2333, 'limitations': 2334, 'transcending': 2335, 'fair': 2336, 'terms': 2337, 'adjustment': 2338, 'differences': 2339, 'exhibit': 2340, 'becoming': 2341, 'belonging': 2342, 'gallant': 2343, 'Dirksen': 2344, 'Humphrey': 2345, 'community': 2346, 'majesty': 2347, 'unity': 2348, 'keeps': 2349, 'fleeting': 2350, 'courses': 2351, 'shape': 2352, 'decades': 2353, 'Proceeding': 2354, 'requires': 2355, 'entrance': 2356, 'entertain': 2357, 'zeal': 2358, 'taking': 2359, 'administer': 2360, 'Commonwealth': 2361, 'conscience': 2362, 'tells': 2363, 'declaration': 2364, 'obvious': 2365, 'import': 2366, 'candid': 2367, 'transaction': 2368, 'endeavored': 2369, 'occasions': 2370, 'lawful': 2371, 'cherished': 2372, 'intercourse': 2373, 'firmly': 2374, 'conviction': 2375, 'soundly': 2376, 'bears': 2377, 'trusted': 2378, 'recourse': 2379, 'armaments': 2380, 'bridle': 2381, 'Friends': 2382, 'portion': 2383, 'pleased': 2384, 'anxious': 2385, 'presentiments': 2386, 'weakness': 2387, 'inspire': 2388, 'spread': 2389, 'wide': 2390, 'traversing': 2391, 'seas': 2392, 'productions': 2393, 'industry': 2394, 'advancing': 2395, 'rapidly': 2396, 'reach': 2397, 'eye': 2398, 'objects': 2399, 'beloved': 2400, 'auspices': 2401, 'contemplation': 2402, 'undertaking': 2403, 'Utterly': 2404, 'remind': 2405, 'authorities': 2406, 'provided': 2407, 'virtue': 2408, 'gentlemen': 2409, 'sovereign': 2410, 'steer': 2411, 'vessel': 2412, 'embarked': 2413, 'conflicting': 2414, 'elements': 2415, 'troubled': 2416, 'animation': 2417, 'exertions': 2418, 'sometimes': 2419, 'worn': 2420, 'impose': 2421, 'strangers': 2422, 'unused': 2423, 'freely': 2424, 'write': 2425, 'decided': 2426, 'announced': 2427, 'arrange': 2428, 'cases': 2429, 'prevail': 2430, 'rightful': 2431, 'minority': 2432, 'possess': 2433, 'violate': 2434, 'oppression': 2435, 'affection': 2436, 'dreary': 2437, 'banished': 2438, 'intolerance': 2439, 'bled': 2440, 'suffered': 2441, 'gained': 2442, 'countenance': 2443, 'despotic': 2444, 'wicked': 2445, 'capable': 2446, 'persecutions': 2447, 'throes': 2448, 'convulsions': 2449, 'agonizing': 2450, 'spasms': 2451, 'infuriated': 2452, 'seeking': 2453, 'slaughter': 2454, 'lost': 2455, 'wonderful': 2456, 'agitation': 2457, 'billows': 2458, 'shore': 2459, 'feared': 2460, 'divide': 2461, 'difference': 2462, 'names': 2463, 'brethren': 2464, 'Republicans': 2465, 'Federalists': 2466, 'dissolve': 2467, 'undisturbed': 2468, 'monuments': 2469, 'tolerated': 2470, 'combat': 2471, 'enough': 2472, 'patriot': 2473, 'tide': 2474, 'abandon': 2475, 'kept': 2476, 'theoretic': 2477, 'visionary': 2478, 'possibility': 2479, 'fly': 2480, 'invasions': 2481, 'Sometimes': 2482, 'Can': 2483, 'Or': 2484, 'angels': 2485, 'kings': 2486, 'Hamlet': 2487, 'VIII': 2488, '4th': 2489, 'March': 2490, '1897': 2491, 'currency': 2492, 'credit': 2493, 'None': 2494, 'exists': 2495, 'Then': 2496, 'Treasury': 2497, 'receipts': 2498, 'inadequate': 2499, 'Now': 2500, 'surplus': 2501, 'deficit': 2502, 'constrained': 2503, 'convene': 2504, 'session': 2505, 'devise': 2506, 'revenues': 2507, 'ordinary': 2508, 'expenses': 2509, 'closed': 2510, 'reduced': 2511, 'taxation': 2512, 'sum': 2513, '41': 2514, '000': 2515, 'solicitude': 2516, 'manufacturing': 2517, 'mining': 2518, 'agricultural': 2519, 'mercantile': 2520, 'consequent': 2521, 'distress': 2522, 'avenue': 2523, 'production': 2524, 'activity': 2525, 'labor': 2526, 'products': 2527, 'diversified': 2528, 'unprecedented': 2529, 'volume': 2530, 'admonish': 2531, 'necessity': 2532, 'enlarging': 2533, 'commercial': 2534, 'reciprocal': 2535, 'arrangements': 2536, 'liberal': 2537, 'cultivated': 2538, 'promoted': 2539, 'verdict': 2540, '1896': 2541, 'Whatever': 2542, 'remains': 2543, 'unfulfilled': 2544, 'resting': 2545, 'undiminished': 2546, 'permanence': 2547, 'sound': 2548, 'lead': 2549, 'reckless': 2550, 'ventures': 2551, 'profligacy': 2552, 'expenditures': 2553, 'determines': 2554, 'appropriations': 2555, 'officials': 2556, 'departments': 2557, 'disbursement': 2558, 'avoid': 2559, 'extravagance': 2560, 'sorrow': 2561, 'suitable': 2562, 'desirable': 2563, 'limited': 2564, 'preside': 2565, 'shrinking': 2566, 'repair': 2567, 'post': 2568, 'assigned': 2569, 'unsolicited': 2570, 'answerable': 2571, 'diligent': 2572, 'truly': 2573, 'lightening': 2574, 'requirements': 2575, 'unmindful': 2576, 'augmentation': 2577, 'complexity': 2578, 'imposed': 2579, 'Whether': 2580, 'pace': 2581, 'unparalleled': 2582, 'progression': 2583, 'territory': 2584, 'earnest': 2585, 'discussion': 2586, 'sides': 2587, 'Less': 2588, 'sixty': 2589, 'North': 2590, 'Carolina': 2591, 'congratulation': 2592, 'Revolutionary': 2593, 'struggle': 2594, 'hardly': 2595, 'emerging': 2596, 'evident': 2597, 'wisely': 2598, 'bravely': 2599, 'fulfilled': 2600, 'presumptuous': 2601, 'springing': 2602, 'clear': 2603, 'constituted': 2604, 'paradox': 2605, 'although': 2606, 'comparatively': 2607, 'intrinsically': 2608, 'Inconsiderable': 2609, 'apparent': 2610, 'upheld': 2611, 'broad': 2612, 'intelligent': 2613, 'comprehension': 2614, 'pervading': 2615, 'stronger': 2616, 'furnace': 2617, 'necessities': 2618, 'wasted': 2619, 'energies': 2620, 'idle': 2621, 'delusive': 2622, 'speculations': 2623, 'governmental': 2624, 'landmarks': 2625, 'circumscribed': 2626, 'limits': 2627, 'planted': 2628, 'dangers': 2629, 'fearfully': 2630, 'menaced': 2631, 'proved': 2632, 'illuminated': 2633, 'dawning': 2634, 'lights': 2635, 'dreamed': 2636, 'realized': 2637, 'affirms': 2638, 'oppressed': 2639, 'turned': 2640, 'hitherward': 2641, 'extinguished': 2642, 'wane': 2643, 'constantly': 2644, 'cheered': 2645, 'steady': 2646, 'radiance': 2647, 'Taming': 2648, 'Shrew': 2649, 'Ends': 2650, 'placed': 2651, 'respectable': 2652, 'opportunity': 2653, 'publicly': 2654, 'repeating': 2655, 'endeavors': 2656, 'favorably': 2657, 'estimated': 2658, 'compelled': 2659, 'stamped': 2660, 'invites': 2661, 'smiles': 2662, 'conducting': 2663, 'termination': 2664, 'May': 2665, 'cherish': 2666, 'sentiment': 2667, 'presumption': 2668, 'characters': 2669, 'reality': 2670, 'arguments': 2671, 'postulations': 2672, 'exhausted': 2673, 'positive': 2674, 'wrongs': 2675, 'provoking': 2676, 'discontinued': 2677, 'appeal': 2678, 'longer': 2679, 'delayed': 2680, 'breaking': 2681, 'destroying': 2682, 'perpetuating': 2683, 'disgraceful': 2684, 'regaining': 2685, 'costly': 2686, 'severe': 2687, 'struggles': 2688, 'consecration': 2689, 'keeping': 2690, 'directly': 2691, 'OUR': 2692, 'PROGRESS': 2693, 'mandate': 2694, 'dedicate': 2695, 'sanction': 2696, 'Deeply': 2697, 'moved': 2698, 'attachment': 2699, 'sure': 2700, 'better': 2701, 'witnesses': 2702, 'unreserved': 2703, 'indicating': 2704, 'refer': 2705, 'tendencies': 2706, 'menace': 2707, 'usefulness': 2708, 'utmost': 2709, 'pride': 2710, 'enthusiasm': 2711, 'expansion': 2712, 'sufficiency': 2713, 'rudest': 2714, 'shocks': 2715, 'violence': 2716, 'superiority': 2717, 'behooves': 2718, 'symptom': 2719, 'insidious': 2720, 'infirmity': 2721, 'Like': 2722, 'Quayle': 2723, 'Mitchell': 2724, 'Wright': 2725, 'Congressman': 2726, 'Michael': 2727, 'neighbors': 2728, 'earned': 2729, 'Reagan': 2730, 'repeated': 2731, 'George': 2732, '200': 2733, 'Bicentennial': 2734, 'Inauguration': 2735, 'gladdened': 2736, 'concrete': 2737, 'stunning': 2738, 'vested': 2739, 'relying': 2740, 'invoking': 2741, 'teaches': 2742, 'safer': 2743, 'singularly': 2744, 'trial': 2745, 'forsake': 2746, 'obey': 2747, 'commandments': 2748, 'walk': 2749, 'augmented': 2750, 'prevailing': 2751, 'entailing': 2752, 'idleness': 2753, 'loss': 2754, 'disturbances': 2755, 'speedy': 2756, 'financial': 2757, 'revision': 2758, 'money': 2759, 'value': 2760, 'enduring': 2761, 'basis': 2762, 'easy': 2763, 'attack': 2764, 'stability': 2765, 'dispute': 2766, 'paper': 2767, 'offer': 2768, 'embarrassment': 2769, 'safe': 2770, 'balance': 2771, 'Therefore': 2772, 'diminishing': 2773, 'circulating': 2774, 'medium': 2775, 'offering': 2776, 'premium': 2777, 'contraction': 2778, 'remedy': 2779, 'temporary': 2780, 'displaced': 2781, 'wiser': 2782, 'provisions': 2783, 'fiscal': 2784, 'insuring': 2785, 'gold': 2786, 'reserve': 2787, 'speculation': 2788, 'Most': 2789, 'outgrowth': 2790, 'amended': 2791, 'investigation': 2792, 'demonstration': 2793, 'proposed': 2794, 'haste': 2795, 'slowly': 2796, 'expedient': 2797, 'commission': 2798, 'coinage': 2799, 'banking': 2800, 'exhaustive': 2801, 'dispassionate': 2802, 'demands': 2803, 'cordially': 2804, 'concur': 2805, 'appoint': 2806, 'informed': 2807, 'parties': 2808, 'account': 2809, 'fitness': 2810, 'Business': 2811, 'training': 2812, 'combined': 2813, 'report': 2814, 'receive': 2815, 'finances': 2816, 'cease': 2817, 'partisan': 2818, 'contention': 2819, 'worth': 2820, 'prove': 2821, 'beneficial': 2822, 'entire': 2823, 'international': 2824, 'bimetallism': 2825, 'co': 2826, 'operation': 2827, 'Until': 2828, 'parity': 2829, 'between': 2830, 'silver': 2831, 'springs': 2832, 'supported': 2833, 'metals': 2834, 'coined': 2835, 'hereafter': 2836, 'par': 2837, 'resource': 2838, 'inviolability': 2839, 'preserved': 2840, 'commanding': 2841, 'unheeded': 2842, 'perceived': 2843, 'middle': 2844, 'unlimited': 2845, 'submission': 2846, 'legislature': 2847, 'total': 2848, 'apprehensive': 2849, 'fleets': 2850, 'resist': 2851, 'contests': 2852, 'dissensions': 2853, 'certainly': 2854, 'parts': 2855, 'extensive': 2856, 'Relying': 2857, 'intentions': 2858, 'overruling': 2859, 'signally': 2860, 'consisting': 2861, 'broke': 2862, 'pieces': 2863, 'chains': 2864, 'forging': 2865, 'rod': 2866, 'iron': 2867, 'lifted': 2868, 'cut': 2869, 'asunder': 2870, 'ties': 2871, 'launched': 2872, 'uncertainty': 2873, 'ardor': 2874, 'supplying': 2875, 'preservation': 2876, 'society': 2877, 'models': 2878, 'Batavian': 2879, 'Helvetic': 2880, 'confederacies': 2881, 'remain': 2882, 'detail': 2883, 'precision': 2884, 'ones': 2885, 'reflecting': 2886, 'particulars': 2887, 'courier': 2888, 'seat': 2889, 'frontier': 2890, 'foreseen': 2891, 'assisted': 2892, 'Negligence': 2893, 'regulations': 2894, 'inattention': 2895, 'recommendations': 2896, 'disobedience': 2897, 'melancholy': 2898, 'universal': 2899, 'languor': 2900, 'jealousies': 2901, 'rivalries': 2902, 'decline': 2903, 'navigation': 2904, 'discouragement': 2905, 'manufactures': 2906, 'fall': 2907, 'lands': 2908, 'contempt': 2909, 'length': 2910, 'discontents': 2911, 'animosities': 2912, 'conventions': 2913, 'insurrection': 2914, 'threatening': 2915, 'calamity': 2916, 'expressed': 2917, 'calls': 2918, 'pass': 2919, 'solemnities': 2920, 'preparatory': 2921, 'another': 2922, 'approbation': 2923, 'displayed': 2924, 'continued': 2925, 'necessarily': 2926, 'delicate': 2927, 'painful': 2928, 'General': 2929, 'allude': 2930, 'successive': 2931, 'elevated': 2932, 'submit': 2933, 'governing': 2934, 'maxim': 2935, 'controversy': 2936, 'minor': 2937, 'unadjusted': 2938, 'fate': 2939, 'rest': 2940, 'meaning': 2941, 'destiny': 2942, 'decides': 2943, 'Richard': 2944, 'II': 2945, '20th': 2946, 'await': 2947, 'next': 2948, 'fortune': 2949, 'edge': 2950, 'millennium': 2951, 'bright': 2952, 'forever': 2953, 'Guided': 2954, 'sights': 2955, '18th': 2956, 'bold': 2957, 'extended': 2958, '19th': 2959, 'across': 2960, 'saved': 2961, 'abolished': 2962, 'scourge': 2963, 'slavery': 2964, 'turmoil': 2965, 'triumph': 2966, 'exploded': 2967, 'onto': 2968, 'stage': 2969, 'Century': 2970, '1': 2971, 'Othello': 2972, 'Midsummer': 2973, 'Dream': 2974, 'describe': 2975, 'evinced': 2976, 'bosom': 2977, 'announces': 2978, 'preceding': 2979, 'affords': 2980, 'profoundly': 2981, 'accord': 2982, 'ceasing': 2983, 'continuance': 2984, 'solace': 2985, 'unceasing': 2986, 'pretensions': 2987, 'conspicuously': 2988, 'identified': 2989, 'prevailed': 2990, 'late': 2991, 'surmounting': 2992, 'division': 2993, 'occurrences': 2994, 'essentially': 2995, 'draw': 2996, 'touching': 2997, 'remotely': 2998, 'founded': 2999, 'exclusively': 3000, 'sovereignty': 3001, 'person': 3002, 'intends': 3003, 'served': 3004, 'afforded': 3005, 'explanation': 3006, 'respecting': 3007, 'constituents': 3008, 'movements': 3009, 'corrected': 3010, 'thorough': 3011, 'judge': 3012, 'correctly': 3013, 'sanctioned': 3014, 'career': 3015, 'bind': 3016, 'unfolding': 3017, 'resort': 3018, 'enumerates': 3019, 'declares': 3020, 'sacredly': 3021, 'devoted': 3022, 'perfect': 3023, 'insure': 3024, 'provide': 3025, 'Since': 3026, 'compact': 3027, 'Administered': 3028, 'eminent': 3029, 'incidental': 3030, 'disappointed': 3031, 'aspirations': 3032, 'benefactors': 3033, 'lot': 3034, 'indebted': 3035, 'doubly': 3036, 'labors': 3037, 'transmit': 3038, 'unimpaired': 3039, 'compass': 3040, 'thirty': 3041, 'six': 3042, 'enacted': 3043, 'unfolded': 3044, 'effective': 3045, 'Subordinate': 3046, 'distributed': 3047, 'military': 3048, 'sea': 3049, 'judiciary': 3050, 'expounded': 3051, 'settling': 3052, 'harmonious': 3053, 'coincidence': 3054, 'numerous': 3055, 'construction': 3056, 'imperfection': 3057, 'unavoidable': 3058, 'jubilee': 3059, 'consummation': 3060, 'effected': 3061, 'Merry': 3062, 'Wives': 3063, 'Windsor': 3064, 'appearing': 3065, 'statement': 3066, 'somewhat': 3067, 'expiration': 3068, 'phase': 3069, 'absorbs': 3070, 'engrosses': 3071, 'arms': 3072, 'reasonably': 3073, 'satisfactory': 3074, 'prediction': 3075, 'ventured': 3076, 'corresponding': 3077, 'anxiously': 3078, 'impending': 3079, 'dreaded': 3080, 'avert': 3081, 'delivered': 3082, 'saving': 3083, 'urgent': 3084, 'agents': 3085, 'city': 3086, 'destroy': 3087, 'negotiation': 3088, 'Both': 3089, 'deprecated': 3090, 'survive': 3091, 'perish': 3092, 'III': 3093}\n"
     ]
    }
   ],
   "source": [
    "print(dict_tensor)"
   ]
  },
  {
   "cell_type": "code",
   "execution_count": 83,
   "metadata": {},
   "outputs": [
    {
     "name": "stdout",
     "output_type": "stream",
     "text": [
      "15740.0\n"
     ]
    }
   ],
   "source": [
    "print(tensor.sum())"
   ]
  },
  {
   "cell_type": "code",
   "execution_count": 86,
   "metadata": {},
   "outputs": [],
   "source": [
    "decompose = KruskalTensor(tensor.shape, rank=3, regularize=1e-6, \n",
    "                                  init='nvecs', X_data=tensor)"
   ]
  },
  {
   "cell_type": "code",
   "execution_count": 90,
   "metadata": {},
   "outputs": [],
   "source": [
    "factors = decompose.U"
   ]
  },
  {
   "cell_type": "code",
   "execution_count": 122,
   "metadata": {},
   "outputs": [
    {
     "name": "stdout",
     "output_type": "stream",
     "text": [
      "<ktensor.KruskalTensor object at 0x1a1c93e4a8>\n",
      "Tensor(\"U/0/read:0\", shape=(98, 3), dtype=float64)\n"
     ]
    },
    {
     "ename": "AttributeError",
     "evalue": "'list' object has no attribute 'astype'",
     "output_type": "error",
     "traceback": [
      "\u001b[0;31m---------------------------------------------------------------------------\u001b[0m",
      "\u001b[0;31mAttributeError\u001b[0m                            Traceback (most recent call last)",
      "\u001b[0;32m<ipython-input-122-f1440d93fffc>\u001b[0m in \u001b[0;36m<module>\u001b[0;34m()\u001b[0m\n\u001b[1;32m      1\u001b[0m \u001b[0mprint\u001b[0m\u001b[0;34m(\u001b[0m\u001b[0mdecompose\u001b[0m\u001b[0;34m)\u001b[0m\u001b[0;34m\u001b[0m\u001b[0m\n\u001b[1;32m      2\u001b[0m \u001b[0mprint\u001b[0m\u001b[0;34m(\u001b[0m\u001b[0mfactors\u001b[0m\u001b[0;34m[\u001b[0m\u001b[0;36m0\u001b[0m\u001b[0;34m]\u001b[0m\u001b[0;34m)\u001b[0m\u001b[0;34m\u001b[0m\u001b[0m\n\u001b[0;32m----> 3\u001b[0;31m \u001b[0mfactors\u001b[0m\u001b[0;34m.\u001b[0m\u001b[0mastype\u001b[0m\u001b[0;34m(\u001b[0m\u001b[0mint\u001b[0m\u001b[0;34m)\u001b[0m\u001b[0;34m\u001b[0m\u001b[0m\n\u001b[0m",
      "\u001b[0;31mAttributeError\u001b[0m: 'list' object has no attribute 'astype'"
     ]
    }
   ],
   "source": [
    "print(decompose)\n",
    "print(factors[0])\n",
    "factors.astype(int)"
   ]
  },
  {
   "cell_type": "code",
   "execution_count": 107,
   "metadata": {},
   "outputs": [
    {
     "ename": "ValueError",
     "evalue": "Expected 2D array, got 1D array instead:\narray=[<tensorflow.python.ops.variables.Variable object at 0x1a1c93e940>\n <tensorflow.python.ops.variables.Variable object at 0x1a1c93e320>\n <tensorflow.python.ops.variables.Variable object at 0x1a1c93ef98>].\nReshape your data either using array.reshape(-1, 1) if your data has a single feature or array.reshape(1, -1) if it contains a single sample.",
     "output_type": "error",
     "traceback": [
      "\u001b[0;31m---------------------------------------------------------------------------\u001b[0m",
      "\u001b[0;31mValueError\u001b[0m                                Traceback (most recent call last)",
      "\u001b[0;32m<ipython-input-107-8cafd5a065f5>\u001b[0m in \u001b[0;36m<module>\u001b[0;34m()\u001b[0m\n\u001b[1;32m      1\u001b[0m \u001b[0mclusters\u001b[0m \u001b[0;34m=\u001b[0m \u001b[0;36m2\u001b[0m\u001b[0;34m\u001b[0m\u001b[0m\n\u001b[1;32m      2\u001b[0m \u001b[0msvd\u001b[0m \u001b[0;34m=\u001b[0m \u001b[0mTruncatedSVD\u001b[0m\u001b[0;34m(\u001b[0m\u001b[0mn_components\u001b[0m\u001b[0;34m=\u001b[0m\u001b[0;36m2\u001b[0m\u001b[0;34m,\u001b[0m \u001b[0mn_iter\u001b[0m\u001b[0;34m=\u001b[0m\u001b[0;36m20\u001b[0m\u001b[0;34m,\u001b[0m \u001b[0mrandom_state\u001b[0m\u001b[0;34m=\u001b[0m\u001b[0;36m42\u001b[0m\u001b[0;34m)\u001b[0m\u001b[0;34m\u001b[0m\u001b[0m\n\u001b[0;32m----> 3\u001b[0;31m \u001b[0mreduced\u001b[0m \u001b[0;34m=\u001b[0m \u001b[0msvd\u001b[0m\u001b[0;34m.\u001b[0m\u001b[0mfit_transform\u001b[0m\u001b[0;34m(\u001b[0m\u001b[0mfactors\u001b[0m\u001b[0;34m)\u001b[0m\u001b[0;34m\u001b[0m\u001b[0m\n\u001b[0m\u001b[1;32m      4\u001b[0m \u001b[0mkmeans\u001b[0m \u001b[0;34m=\u001b[0m \u001b[0mKMeans\u001b[0m\u001b[0;34m(\u001b[0m\u001b[0mn_clusters\u001b[0m\u001b[0;34m=\u001b[0m\u001b[0mclusters\u001b[0m\u001b[0;34m,\u001b[0m \u001b[0mrandom_state\u001b[0m\u001b[0;34m=\u001b[0m\u001b[0;36m0\u001b[0m\u001b[0;34m)\u001b[0m\u001b[0;34m.\u001b[0m\u001b[0mfit\u001b[0m\u001b[0;34m(\u001b[0m\u001b[0mfactor_matrix\u001b[0m\u001b[0;34m)\u001b[0m\u001b[0;34m\u001b[0m\u001b[0m\n\u001b[1;32m      5\u001b[0m \u001b[0mlabels_predicted\u001b[0m \u001b[0;34m=\u001b[0m \u001b[0mkmeans\u001b[0m\u001b[0;34m.\u001b[0m\u001b[0mlabels_\u001b[0m\u001b[0;34m\u001b[0m\u001b[0m\n",
      "\u001b[0;32m/anaconda3/lib/python3.6/site-packages/sklearn/decomposition/truncated_svd.py\u001b[0m in \u001b[0;36mfit_transform\u001b[0;34m(self, X, y)\u001b[0m\n\u001b[1;32m    158\u001b[0m             \u001b[0mReduced\u001b[0m \u001b[0mversion\u001b[0m \u001b[0mof\u001b[0m \u001b[0mX\u001b[0m\u001b[0;34m.\u001b[0m \u001b[0mThis\u001b[0m \u001b[0mwill\u001b[0m \u001b[0malways\u001b[0m \u001b[0mbe\u001b[0m \u001b[0ma\u001b[0m \u001b[0mdense\u001b[0m \u001b[0marray\u001b[0m\u001b[0;34m.\u001b[0m\u001b[0;34m\u001b[0m\u001b[0m\n\u001b[1;32m    159\u001b[0m         \"\"\"\n\u001b[0;32m--> 160\u001b[0;31m         \u001b[0mX\u001b[0m \u001b[0;34m=\u001b[0m \u001b[0mcheck_array\u001b[0m\u001b[0;34m(\u001b[0m\u001b[0mX\u001b[0m\u001b[0;34m,\u001b[0m \u001b[0maccept_sparse\u001b[0m\u001b[0;34m=\u001b[0m\u001b[0;34m[\u001b[0m\u001b[0;34m'csr'\u001b[0m\u001b[0;34m,\u001b[0m \u001b[0;34m'csc'\u001b[0m\u001b[0;34m]\u001b[0m\u001b[0;34m)\u001b[0m\u001b[0;34m\u001b[0m\u001b[0m\n\u001b[0m\u001b[1;32m    161\u001b[0m         \u001b[0mrandom_state\u001b[0m \u001b[0;34m=\u001b[0m \u001b[0mcheck_random_state\u001b[0m\u001b[0;34m(\u001b[0m\u001b[0mself\u001b[0m\u001b[0;34m.\u001b[0m\u001b[0mrandom_state\u001b[0m\u001b[0;34m)\u001b[0m\u001b[0;34m\u001b[0m\u001b[0m\n\u001b[1;32m    162\u001b[0m \u001b[0;34m\u001b[0m\u001b[0m\n",
      "\u001b[0;32m/anaconda3/lib/python3.6/site-packages/sklearn/utils/validation.py\u001b[0m in \u001b[0;36mcheck_array\u001b[0;34m(array, accept_sparse, dtype, order, copy, force_all_finite, ensure_2d, allow_nd, ensure_min_samples, ensure_min_features, warn_on_dtype, estimator)\u001b[0m\n\u001b[1;32m    439\u001b[0m                     \u001b[0;34m\"Reshape your data either using array.reshape(-1, 1) if \"\u001b[0m\u001b[0;34m\u001b[0m\u001b[0m\n\u001b[1;32m    440\u001b[0m                     \u001b[0;34m\"your data has a single feature or array.reshape(1, -1) \"\u001b[0m\u001b[0;34m\u001b[0m\u001b[0m\n\u001b[0;32m--> 441\u001b[0;31m                     \"if it contains a single sample.\".format(array))\n\u001b[0m\u001b[1;32m    442\u001b[0m             \u001b[0marray\u001b[0m \u001b[0;34m=\u001b[0m \u001b[0mnp\u001b[0m\u001b[0;34m.\u001b[0m\u001b[0matleast_2d\u001b[0m\u001b[0;34m(\u001b[0m\u001b[0marray\u001b[0m\u001b[0;34m)\u001b[0m\u001b[0;34m\u001b[0m\u001b[0m\n\u001b[1;32m    443\u001b[0m             \u001b[0;31m# To ensure that array flags are maintained\u001b[0m\u001b[0;34m\u001b[0m\u001b[0;34m\u001b[0m\u001b[0m\n",
      "\u001b[0;31mValueError\u001b[0m: Expected 2D array, got 1D array instead:\narray=[<tensorflow.python.ops.variables.Variable object at 0x1a1c93e940>\n <tensorflow.python.ops.variables.Variable object at 0x1a1c93e320>\n <tensorflow.python.ops.variables.Variable object at 0x1a1c93ef98>].\nReshape your data either using array.reshape(-1, 1) if your data has a single feature or array.reshape(1, -1) if it contains a single sample."
     ]
    }
   ],
   "source": [
    "clusters = 2\n",
    "svd = TruncatedSVD(n_components=2, n_iter=20, random_state=42)\n",
    "reduced = svd.fit_transform(factors)\n",
    "kmeans = KMeans(n_clusters=clusters, random_state=0).fit(factor_matrix)\n",
    "labels_predicted = kmeans.labels_\n",
    "data = [plotly.graph_objs.Scatter(x=[entry[0] for entry in reduced],\n",
    "                                          y=[entry[1] for entry in reduced],\n",
    "                                          mode='markers',\n",
    "                                          marker=dict(color=kmeans.labels_),\n",
    "                                          text=file_names\n",
    "                                          )\n",
    "                ]\n",
    "fig = go.Figure(data=data)\n",
    "plotly.offline.plot(fig, filename='kmeans_cluster.html')"
   ]
  },
  {
   "cell_type": "code",
   "execution_count": 101,
   "metadata": {
    "collapsed": true
   },
   "outputs": [],
   "source": [
    "from sklearn.decomposition import TruncatedSVD"
   ]
  },
  {
   "cell_type": "code",
   "execution_count": 114,
   "metadata": {},
   "outputs": [
    {
     "ename": "AttributeError",
     "evalue": "'Variable' object has no attribute 'reshape'",
     "output_type": "error",
     "traceback": [
      "\u001b[0;31m---------------------------------------------------------------------------\u001b[0m",
      "\u001b[0;31mAttributeError\u001b[0m                            Traceback (most recent call last)",
      "\u001b[0;32m<ipython-input-114-c9c5213e798a>\u001b[0m in \u001b[0;36m<module>\u001b[0;34m()\u001b[0m\n\u001b[0;32m----> 1\u001b[0;31m \u001b[0mfac\u001b[0m \u001b[0;34m=\u001b[0m \u001b[0mfactors\u001b[0m\u001b[0;34m[\u001b[0m\u001b[0;36m1\u001b[0m\u001b[0;34m]\u001b[0m\u001b[0;34m.\u001b[0m\u001b[0mreshape\u001b[0m\u001b[0;34m(\u001b[0m\u001b[0;34m-\u001b[0m\u001b[0;36m1\u001b[0m\u001b[0;34m,\u001b[0m\u001b[0;36m1\u001b[0m\u001b[0;34m)\u001b[0m\u001b[0;34m\u001b[0m\u001b[0m\n\u001b[0m",
      "\u001b[0;31mAttributeError\u001b[0m: 'Variable' object has no attribute 'reshape'"
     ]
    }
   ],
   "source": [
    "fac = factors[1].reshape(-1,1)"
   ]
  },
  {
   "cell_type": "code",
   "execution_count": 123,
   "metadata": {},
   "outputs": [
    {
     "ename": "ValueError",
     "evalue": "setting an array element with a sequence.",
     "output_type": "error",
     "traceback": [
      "\u001b[0;31m---------------------------------------------------------------------------\u001b[0m",
      "\u001b[0;31mValueError\u001b[0m                                Traceback (most recent call last)",
      "\u001b[0;32m<ipython-input-123-187e073f92b2>\u001b[0m in \u001b[0;36m<module>\u001b[0;34m()\u001b[0m\n\u001b[0;32m----> 1\u001b[0;31m \u001b[0mkmeans\u001b[0m \u001b[0;34m=\u001b[0m \u001b[0mKMeans\u001b[0m\u001b[0;34m(\u001b[0m\u001b[0mn_clusters\u001b[0m\u001b[0;34m=\u001b[0m\u001b[0mclusters\u001b[0m\u001b[0;34m,\u001b[0m \u001b[0mrandom_state\u001b[0m\u001b[0;34m=\u001b[0m\u001b[0;36m0\u001b[0m\u001b[0;34m)\u001b[0m\u001b[0;34m.\u001b[0m\u001b[0mfit\u001b[0m\u001b[0;34m(\u001b[0m\u001b[0mfactors\u001b[0m\u001b[0;34m[\u001b[0m\u001b[0;36m0\u001b[0m\u001b[0;34m]\u001b[0m\u001b[0;34m)\u001b[0m\u001b[0;34m\u001b[0m\u001b[0m\n\u001b[0m\u001b[1;32m      2\u001b[0m \u001b[0mlabels_predicted\u001b[0m \u001b[0;34m=\u001b[0m \u001b[0mkmeans\u001b[0m\u001b[0;34m.\u001b[0m\u001b[0mlabels_\u001b[0m\u001b[0;34m\u001b[0m\u001b[0m\n",
      "\u001b[0;32m/anaconda3/lib/python3.6/site-packages/sklearn/cluster/k_means_.py\u001b[0m in \u001b[0;36mfit\u001b[0;34m(self, X, y)\u001b[0m\n\u001b[1;32m    885\u001b[0m         \"\"\"\n\u001b[1;32m    886\u001b[0m         \u001b[0mrandom_state\u001b[0m \u001b[0;34m=\u001b[0m \u001b[0mcheck_random_state\u001b[0m\u001b[0;34m(\u001b[0m\u001b[0mself\u001b[0m\u001b[0;34m.\u001b[0m\u001b[0mrandom_state\u001b[0m\u001b[0;34m)\u001b[0m\u001b[0;34m\u001b[0m\u001b[0m\n\u001b[0;32m--> 887\u001b[0;31m         \u001b[0mX\u001b[0m \u001b[0;34m=\u001b[0m \u001b[0mself\u001b[0m\u001b[0;34m.\u001b[0m\u001b[0m_check_fit_data\u001b[0m\u001b[0;34m(\u001b[0m\u001b[0mX\u001b[0m\u001b[0;34m)\u001b[0m\u001b[0;34m\u001b[0m\u001b[0m\n\u001b[0m\u001b[1;32m    888\u001b[0m \u001b[0;34m\u001b[0m\u001b[0m\n\u001b[1;32m    889\u001b[0m         \u001b[0mself\u001b[0m\u001b[0;34m.\u001b[0m\u001b[0mcluster_centers_\u001b[0m\u001b[0;34m,\u001b[0m \u001b[0mself\u001b[0m\u001b[0;34m.\u001b[0m\u001b[0mlabels_\u001b[0m\u001b[0;34m,\u001b[0m \u001b[0mself\u001b[0m\u001b[0;34m.\u001b[0m\u001b[0minertia_\u001b[0m\u001b[0;34m,\u001b[0m \u001b[0mself\u001b[0m\u001b[0;34m.\u001b[0m\u001b[0mn_iter_\u001b[0m \u001b[0;34m=\u001b[0m\u001b[0;31m \u001b[0m\u001b[0;31m\\\u001b[0m\u001b[0;34m\u001b[0m\u001b[0m\n",
      "\u001b[0;32m/anaconda3/lib/python3.6/site-packages/sklearn/cluster/k_means_.py\u001b[0m in \u001b[0;36m_check_fit_data\u001b[0;34m(self, X)\u001b[0m\n\u001b[1;32m    856\u001b[0m     \u001b[0;32mdef\u001b[0m \u001b[0m_check_fit_data\u001b[0m\u001b[0;34m(\u001b[0m\u001b[0mself\u001b[0m\u001b[0;34m,\u001b[0m \u001b[0mX\u001b[0m\u001b[0;34m)\u001b[0m\u001b[0;34m:\u001b[0m\u001b[0;34m\u001b[0m\u001b[0m\n\u001b[1;32m    857\u001b[0m         \u001b[0;34m\"\"\"Verify that the number of samples given is larger than k\"\"\"\u001b[0m\u001b[0;34m\u001b[0m\u001b[0m\n\u001b[0;32m--> 858\u001b[0;31m         \u001b[0mX\u001b[0m \u001b[0;34m=\u001b[0m \u001b[0mcheck_array\u001b[0m\u001b[0;34m(\u001b[0m\u001b[0mX\u001b[0m\u001b[0;34m,\u001b[0m \u001b[0maccept_sparse\u001b[0m\u001b[0;34m=\u001b[0m\u001b[0;34m'csr'\u001b[0m\u001b[0;34m,\u001b[0m \u001b[0mdtype\u001b[0m\u001b[0;34m=\u001b[0m\u001b[0;34m[\u001b[0m\u001b[0mnp\u001b[0m\u001b[0;34m.\u001b[0m\u001b[0mfloat64\u001b[0m\u001b[0;34m,\u001b[0m \u001b[0mnp\u001b[0m\u001b[0;34m.\u001b[0m\u001b[0mfloat32\u001b[0m\u001b[0;34m]\u001b[0m\u001b[0;34m)\u001b[0m\u001b[0;34m\u001b[0m\u001b[0m\n\u001b[0m\u001b[1;32m    859\u001b[0m         \u001b[0;32mif\u001b[0m \u001b[0mX\u001b[0m\u001b[0;34m.\u001b[0m\u001b[0mshape\u001b[0m\u001b[0;34m[\u001b[0m\u001b[0;36m0\u001b[0m\u001b[0;34m]\u001b[0m \u001b[0;34m<\u001b[0m \u001b[0mself\u001b[0m\u001b[0;34m.\u001b[0m\u001b[0mn_clusters\u001b[0m\u001b[0;34m:\u001b[0m\u001b[0;34m\u001b[0m\u001b[0m\n\u001b[1;32m    860\u001b[0m             raise ValueError(\"n_samples=%d should be >= n_clusters=%d\" % (\n",
      "\u001b[0;32m/anaconda3/lib/python3.6/site-packages/sklearn/utils/validation.py\u001b[0m in \u001b[0;36mcheck_array\u001b[0;34m(array, accept_sparse, dtype, order, copy, force_all_finite, ensure_2d, allow_nd, ensure_min_samples, ensure_min_features, warn_on_dtype, estimator)\u001b[0m\n\u001b[1;32m    431\u001b[0m                                       force_all_finite)\n\u001b[1;32m    432\u001b[0m     \u001b[0;32melse\u001b[0m\u001b[0;34m:\u001b[0m\u001b[0;34m\u001b[0m\u001b[0m\n\u001b[0;32m--> 433\u001b[0;31m         \u001b[0marray\u001b[0m \u001b[0;34m=\u001b[0m \u001b[0mnp\u001b[0m\u001b[0;34m.\u001b[0m\u001b[0marray\u001b[0m\u001b[0;34m(\u001b[0m\u001b[0marray\u001b[0m\u001b[0;34m,\u001b[0m \u001b[0mdtype\u001b[0m\u001b[0;34m=\u001b[0m\u001b[0mdtype\u001b[0m\u001b[0;34m,\u001b[0m \u001b[0morder\u001b[0m\u001b[0;34m=\u001b[0m\u001b[0morder\u001b[0m\u001b[0;34m,\u001b[0m \u001b[0mcopy\u001b[0m\u001b[0;34m=\u001b[0m\u001b[0mcopy\u001b[0m\u001b[0;34m)\u001b[0m\u001b[0;34m\u001b[0m\u001b[0m\n\u001b[0m\u001b[1;32m    434\u001b[0m \u001b[0;34m\u001b[0m\u001b[0m\n\u001b[1;32m    435\u001b[0m         \u001b[0;32mif\u001b[0m \u001b[0mensure_2d\u001b[0m\u001b[0;34m:\u001b[0m\u001b[0;34m\u001b[0m\u001b[0m\n",
      "\u001b[0;31mValueError\u001b[0m: setting an array element with a sequence."
     ]
    }
   ],
   "source": [
    "kmeans = KMeans(n_clusters=clusters, random_state=0).fit(factors[0])\n",
    "labels_predicted = kmeans.labels_"
   ]
  },
  {
   "cell_type": "code",
   "execution_count": 118,
   "metadata": {
    "collapsed": true
   },
   "outputs": [],
   "source": [
    "import plotly\n",
    "import plotly.plotly as py\n",
    "import plotly.graph_objs as go\n",
    "from sklearn.cluster import KMeans\n",
    "from sklearn.decomposition import TruncatedSVD\n",
    "import time\n",
    "import scipy.cluster.hierarchy\n",
    "import scipy.spatial.distance\n",
    "from collections import Counter"
   ]
  },
  {
   "cell_type": "code",
   "execution_count": null,
   "metadata": {
    "collapsed": true
   },
   "outputs": [],
   "source": []
  }
 ],
 "metadata": {
  "kernelspec": {
   "display_name": "Python 3",
   "language": "python",
   "name": "python3"
  },
  "language_info": {
   "codemirror_mode": {
    "name": "ipython",
    "version": 3
   },
   "file_extension": ".py",
   "mimetype": "text/x-python",
   "name": "python",
   "nbconvert_exporter": "python",
   "pygments_lexer": "ipython3",
   "version": "3.6.3"
  }
 },
 "nbformat": 4,
 "nbformat_minor": 2
}
